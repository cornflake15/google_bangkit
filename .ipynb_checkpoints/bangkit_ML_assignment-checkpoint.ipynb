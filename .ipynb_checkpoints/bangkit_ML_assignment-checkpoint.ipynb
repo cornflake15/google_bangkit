{
 "cells": [
  {
   "cell_type": "markdown",
   "metadata": {},
   "source": [
    "# Denpasar Weather Forecasting with TensorFlow"
   ]
  },
  {
   "cell_type": "code",
   "execution_count": 52,
   "metadata": {},
   "outputs": [],
   "source": [
    "from __future__ import absolute_import, division, print_function, unicode_literals\n",
    "import tensorflow as tf\n",
    "\n",
    "import matplotlib as mpl\n",
    "import matplotlib.pyplot as plt\n",
    "import numpy as np\n",
    "import os\n",
    "import pandas as pd\n",
    "\n",
    "mpl.rcParams['figure.figsize'] = (12, 5)\n",
    "mpl.rcParams['axes.grid'] = False"
   ]
  },
  {
   "cell_type": "markdown",
   "metadata": {},
   "source": [
    "## The weather dataset\n",
    "\n",
    "Data collected between 2009-2016 every 10 minutes"
   ]
  },
  {
   "cell_type": "code",
   "execution_count": 53,
   "metadata": {},
   "outputs": [
    {
     "data": {
      "text/html": [
       "<div>\n",
       "<style scoped>\n",
       "    .dataframe tbody tr th:only-of-type {\n",
       "        vertical-align: middle;\n",
       "    }\n",
       "\n",
       "    .dataframe tbody tr th {\n",
       "        vertical-align: top;\n",
       "    }\n",
       "\n",
       "    .dataframe thead th {\n",
       "        text-align: right;\n",
       "    }\n",
       "</style>\n",
       "<table border=\"1\" class=\"dataframe\">\n",
       "  <thead>\n",
       "    <tr style=\"text-align: right;\">\n",
       "      <th></th>\n",
       "      <th>temp</th>\n",
       "      <th>temp_min</th>\n",
       "      <th>temp_max</th>\n",
       "      <th>pressure</th>\n",
       "      <th>humidity</th>\n",
       "      <th>wind_speed</th>\n",
       "      <th>wind_deg</th>\n",
       "      <th>clouds_all</th>\n",
       "      <th>weather_main</th>\n",
       "      <th>weather_description</th>\n",
       "    </tr>\n",
       "    <tr>\n",
       "      <th>dt_iso</th>\n",
       "      <th></th>\n",
       "      <th></th>\n",
       "      <th></th>\n",
       "      <th></th>\n",
       "      <th></th>\n",
       "      <th></th>\n",
       "      <th></th>\n",
       "      <th></th>\n",
       "      <th></th>\n",
       "      <th></th>\n",
       "    </tr>\n",
       "  </thead>\n",
       "  <tbody>\n",
       "    <tr>\n",
       "      <th>1990-01-01 00:00:00</th>\n",
       "      <td>25.82</td>\n",
       "      <td>25.82</td>\n",
       "      <td>25.82</td>\n",
       "      <td>1010.0</td>\n",
       "      <td>86</td>\n",
       "      <td>1.36</td>\n",
       "      <td>225</td>\n",
       "      <td>98</td>\n",
       "      <td>Rain</td>\n",
       "      <td>light rain</td>\n",
       "    </tr>\n",
       "    <tr>\n",
       "      <th>1990-01-01 01:00:00</th>\n",
       "      <td>26.20</td>\n",
       "      <td>26.20</td>\n",
       "      <td>26.20</td>\n",
       "      <td>1011.0</td>\n",
       "      <td>84</td>\n",
       "      <td>2.09</td>\n",
       "      <td>247</td>\n",
       "      <td>91</td>\n",
       "      <td>Rain</td>\n",
       "      <td>light rain</td>\n",
       "    </tr>\n",
       "    <tr>\n",
       "      <th>1990-01-01 02:00:00</th>\n",
       "      <td>26.45</td>\n",
       "      <td>26.45</td>\n",
       "      <td>26.45</td>\n",
       "      <td>1011.0</td>\n",
       "      <td>84</td>\n",
       "      <td>2.44</td>\n",
       "      <td>262</td>\n",
       "      <td>94</td>\n",
       "      <td>Rain</td>\n",
       "      <td>light rain</td>\n",
       "    </tr>\n",
       "    <tr>\n",
       "      <th>1990-01-01 03:00:00</th>\n",
       "      <td>26.80</td>\n",
       "      <td>26.80</td>\n",
       "      <td>26.80</td>\n",
       "      <td>1011.0</td>\n",
       "      <td>82</td>\n",
       "      <td>2.29</td>\n",
       "      <td>271</td>\n",
       "      <td>94</td>\n",
       "      <td>Rain</td>\n",
       "      <td>light rain</td>\n",
       "    </tr>\n",
       "    <tr>\n",
       "      <th>1990-01-01 04:00:00</th>\n",
       "      <td>27.04</td>\n",
       "      <td>27.04</td>\n",
       "      <td>27.04</td>\n",
       "      <td>1010.0</td>\n",
       "      <td>82</td>\n",
       "      <td>1.71</td>\n",
       "      <td>274</td>\n",
       "      <td>76</td>\n",
       "      <td>Clouds</td>\n",
       "      <td>broken clouds</td>\n",
       "    </tr>\n",
       "  </tbody>\n",
       "</table>\n",
       "</div>"
      ],
      "text/plain": [
       "                      temp  temp_min  temp_max  pressure  humidity  \\\n",
       "dt_iso                                                               \n",
       "1990-01-01 00:00:00  25.82     25.82     25.82    1010.0        86   \n",
       "1990-01-01 01:00:00  26.20     26.20     26.20    1011.0        84   \n",
       "1990-01-01 02:00:00  26.45     26.45     26.45    1011.0        84   \n",
       "1990-01-01 03:00:00  26.80     26.80     26.80    1011.0        82   \n",
       "1990-01-01 04:00:00  27.04     27.04     27.04    1010.0        82   \n",
       "\n",
       "                     wind_speed  wind_deg  clouds_all weather_main  \\\n",
       "dt_iso                                                               \n",
       "1990-01-01 00:00:00        1.36       225          98         Rain   \n",
       "1990-01-01 01:00:00        2.09       247          91         Rain   \n",
       "1990-01-01 02:00:00        2.44       262          94         Rain   \n",
       "1990-01-01 03:00:00        2.29       271          94         Rain   \n",
       "1990-01-01 04:00:00        1.71       274          76       Clouds   \n",
       "\n",
       "                    weather_description  \n",
       "dt_iso                                   \n",
       "1990-01-01 00:00:00          light rain  \n",
       "1990-01-01 01:00:00          light rain  \n",
       "1990-01-01 02:00:00          light rain  \n",
       "1990-01-01 03:00:00          light rain  \n",
       "1990-01-01 04:00:00       broken clouds  "
      ]
     },
     "execution_count": 53,
     "metadata": {},
     "output_type": "execute_result"
    }
   ],
   "source": [
    "usecols = ['dt_iso', 'temp', 'temp_min', 'temp_max', 'pressure', 'humidity', 'wind_speed', 'wind_deg', \n",
    "           'clouds_all', 'weather_main', 'weather_description']\n",
    "df = pd.read_csv('openweatherdata-denpasar-1990-2020v0.1.csv', parse_dates=True, index_col='dt_iso', usecols=usecols)\n",
    "df.head()"
   ]
  },
  {
   "cell_type": "code",
   "execution_count": 54,
   "metadata": {
    "scrolled": true
   },
   "outputs": [
    {
     "data": {
      "text/plain": [
       "(264924, 10)"
      ]
     },
     "execution_count": 54,
     "metadata": {},
     "output_type": "execute_result"
    }
   ],
   "source": [
    "df.shape"
   ]
  },
  {
   "cell_type": "code",
   "execution_count": 55,
   "metadata": {},
   "outputs": [
    {
     "data": {
      "text/html": [
       "<div>\n",
       "<style scoped>\n",
       "    .dataframe tbody tr th:only-of-type {\n",
       "        vertical-align: middle;\n",
       "    }\n",
       "\n",
       "    .dataframe tbody tr th {\n",
       "        vertical-align: top;\n",
       "    }\n",
       "\n",
       "    .dataframe thead th {\n",
       "        text-align: right;\n",
       "    }\n",
       "</style>\n",
       "<table border=\"1\" class=\"dataframe\">\n",
       "  <thead>\n",
       "    <tr style=\"text-align: right;\">\n",
       "      <th></th>\n",
       "      <th>temp</th>\n",
       "      <th>temp_min</th>\n",
       "      <th>temp_max</th>\n",
       "      <th>pressure</th>\n",
       "      <th>humidity</th>\n",
       "      <th>wind_speed</th>\n",
       "      <th>wind_deg</th>\n",
       "      <th>clouds_all</th>\n",
       "      <th>weather_main</th>\n",
       "      <th>weather_description</th>\n",
       "    </tr>\n",
       "    <tr>\n",
       "      <th>dt_iso</th>\n",
       "      <th></th>\n",
       "      <th></th>\n",
       "      <th></th>\n",
       "      <th></th>\n",
       "      <th></th>\n",
       "      <th></th>\n",
       "      <th></th>\n",
       "      <th></th>\n",
       "      <th></th>\n",
       "      <th></th>\n",
       "    </tr>\n",
       "  </thead>\n",
       "  <tbody>\n",
       "    <tr>\n",
       "      <th>1990-01-01 00:00:00</th>\n",
       "      <td>25.82</td>\n",
       "      <td>25.82</td>\n",
       "      <td>25.82</td>\n",
       "      <td>1010.0</td>\n",
       "      <td>86</td>\n",
       "      <td>1.36</td>\n",
       "      <td>225</td>\n",
       "      <td>98</td>\n",
       "      <td>Rain</td>\n",
       "      <td>light rain</td>\n",
       "    </tr>\n",
       "    <tr>\n",
       "      <th>1990-01-01 01:00:00</th>\n",
       "      <td>26.20</td>\n",
       "      <td>26.20</td>\n",
       "      <td>26.20</td>\n",
       "      <td>1011.0</td>\n",
       "      <td>84</td>\n",
       "      <td>2.09</td>\n",
       "      <td>247</td>\n",
       "      <td>91</td>\n",
       "      <td>Rain</td>\n",
       "      <td>light rain</td>\n",
       "    </tr>\n",
       "    <tr>\n",
       "      <th>1990-01-01 02:00:00</th>\n",
       "      <td>26.45</td>\n",
       "      <td>26.45</td>\n",
       "      <td>26.45</td>\n",
       "      <td>1011.0</td>\n",
       "      <td>84</td>\n",
       "      <td>2.44</td>\n",
       "      <td>262</td>\n",
       "      <td>94</td>\n",
       "      <td>Rain</td>\n",
       "      <td>light rain</td>\n",
       "    </tr>\n",
       "    <tr>\n",
       "      <th>1990-01-01 03:00:00</th>\n",
       "      <td>26.80</td>\n",
       "      <td>26.80</td>\n",
       "      <td>26.80</td>\n",
       "      <td>1011.0</td>\n",
       "      <td>82</td>\n",
       "      <td>2.29</td>\n",
       "      <td>271</td>\n",
       "      <td>94</td>\n",
       "      <td>Rain</td>\n",
       "      <td>light rain</td>\n",
       "    </tr>\n",
       "    <tr>\n",
       "      <th>1990-01-01 04:00:00</th>\n",
       "      <td>27.04</td>\n",
       "      <td>27.04</td>\n",
       "      <td>27.04</td>\n",
       "      <td>1010.0</td>\n",
       "      <td>82</td>\n",
       "      <td>1.71</td>\n",
       "      <td>274</td>\n",
       "      <td>76</td>\n",
       "      <td>Clouds</td>\n",
       "      <td>broken clouds</td>\n",
       "    </tr>\n",
       "  </tbody>\n",
       "</table>\n",
       "</div>"
      ],
      "text/plain": [
       "                      temp  temp_min  temp_max  pressure  humidity  \\\n",
       "dt_iso                                                               \n",
       "1990-01-01 00:00:00  25.82     25.82     25.82    1010.0        86   \n",
       "1990-01-01 01:00:00  26.20     26.20     26.20    1011.0        84   \n",
       "1990-01-01 02:00:00  26.45     26.45     26.45    1011.0        84   \n",
       "1990-01-01 03:00:00  26.80     26.80     26.80    1011.0        82   \n",
       "1990-01-01 04:00:00  27.04     27.04     27.04    1010.0        82   \n",
       "\n",
       "                     wind_speed  wind_deg  clouds_all weather_main  \\\n",
       "dt_iso                                                               \n",
       "1990-01-01 00:00:00        1.36       225          98         Rain   \n",
       "1990-01-01 01:00:00        2.09       247          91         Rain   \n",
       "1990-01-01 02:00:00        2.44       262          94         Rain   \n",
       "1990-01-01 03:00:00        2.29       271          94         Rain   \n",
       "1990-01-01 04:00:00        1.71       274          76       Clouds   \n",
       "\n",
       "                    weather_description  \n",
       "dt_iso                                   \n",
       "1990-01-01 00:00:00          light rain  \n",
       "1990-01-01 01:00:00          light rain  \n",
       "1990-01-01 02:00:00          light rain  \n",
       "1990-01-01 03:00:00          light rain  \n",
       "1990-01-01 04:00:00       broken clouds  "
      ]
     },
     "execution_count": 55,
     "metadata": {},
     "output_type": "execute_result"
    }
   ],
   "source": [
    "# df['date'] = df.index\n",
    "# df = df[['date', 'temp', 'temp_min', 'temp_max', 'pressure', 'humidity', 'wind_speed', 'wind_deg', \n",
    "#            'clouds_all', 'weather_main', 'weather_description']]\n",
    "df.head()"
   ]
  },
  {
   "cell_type": "markdown",
   "metadata": {},
   "source": [
    "**Data Split Function**"
   ]
  },
  {
   "cell_type": "code",
   "execution_count": 56,
   "metadata": {},
   "outputs": [],
   "source": [
    "# Split the data by percentage\n",
    "def num_data_train(percentage, data_length):\n",
    "    num_data = percentage / 100 * data_length\n",
    "    return int(num_data)"
   ]
  },
  {
   "cell_type": "markdown",
   "metadata": {},
   "source": [
    "## Forecast a univariate time series"
   ]
  },
  {
   "cell_type": "markdown",
   "metadata": {},
   "source": [
    "**Split the data**"
   ]
  },
  {
   "cell_type": "code",
   "execution_count": 57,
   "metadata": {},
   "outputs": [
    {
     "name": "stdout",
     "output_type": "stream",
     "text": [
      "Length of Data Train: 185446\n"
     ]
    }
   ],
   "source": [
    "TRAIN_SPLIT = num_data_train(70, df.shape[0]) # Split 70% of the data for training\n",
    "tf.random.set_seed(13) # Setting seed to ensure reproducibility\n",
    "print('Length of Data Train: {}'.format(TRAIN_SPLIT))"
   ]
  },
  {
   "cell_type": "code",
   "execution_count": 58,
   "metadata": {},
   "outputs": [
    {
     "data": {
      "text/plain": [
       "dt_iso\n",
       "2020-01-07 19:00:00    27.0\n",
       "2020-01-07 20:00:00    27.0\n",
       "2020-01-07 21:00:00    28.0\n",
       "2020-01-07 22:00:00    28.0\n",
       "2020-01-07 23:00:00    28.0\n",
       "Name: temp, dtype: float64"
      ]
     },
     "execution_count": 58,
     "metadata": {},
     "output_type": "execute_result"
    }
   ],
   "source": [
    "# Train a model using a single feature (temperature)\n",
    "dt_temp = df['temp']\n",
    "# dt_temp.index = df['dt_iso']\n",
    "dt_temp.tail()"
   ]
  },
  {
   "cell_type": "code",
   "execution_count": 59,
   "metadata": {},
   "outputs": [
    {
     "data": {
      "image/png": "[encoded data removed]",
      "text/plain": [
       "<Figure size 864x360 with 1 Axes>"
      ]
     },
     "metadata": {
      "needs_background": "light"
     },
     "output_type": "display_data"
    }
   ],
   "source": [
    "dt_temp.plot(subplots=True)\n",
    "plt.show()"
   ]
  },
  {
   "cell_type": "code",
   "execution_count": 60,
   "metadata": {},
   "outputs": [
    {
     "name": "stdout",
     "output_type": "stream",
     "text": [
      "[25.82 26.2  26.45 26.8  27.04 27.23 27.32 27.29 27.34 27.23]\n"
     ]
    }
   ],
   "source": [
    "# Convert the dataframe into numpy array\n",
    "array_temp = dt_temp.values\n",
    "print(array_temp[:10]) # Print 10 elements for checking"
   ]
  },
  {
   "cell_type": "code",
   "execution_count": 61,
   "metadata": {
    "scrolled": true
   },
   "outputs": [
    {
     "name": "stdout",
     "output_type": "stream",
     "text": [
      "Training Data Mean: 27.1836268239811\n",
      "\n",
      "Training Data Std.Dev: 1.9980058874922433\n"
     ]
    }
   ],
   "source": [
    "# Scaling the features\n",
    "array_temp_mean = array_temp[:TRAIN_SPLIT].mean()\n",
    "array_temp_std = array_temp[:TRAIN_SPLIT].std()\n",
    "print('Training Data Mean: {}'.format(array_temp_mean))\n",
    "print('\\nTraining Data Std.Dev: {}'.format(array_temp_std))"
   ]
  },
  {
   "cell_type": "code",
   "execution_count": 62,
   "metadata": {},
   "outputs": [
    {
     "name": "stdout",
     "output_type": "stream",
     "text": [
      "[-0.6824939  -0.49230427 -0.36717951 ...  0.40859398  0.40859398\n",
      "  0.40859398]\n"
     ]
    }
   ],
   "source": [
    "# Standardize the data\n",
    "array_temp = (array_temp - array_temp_mean) / array_temp_std\n",
    "print(array_temp)"
   ]
  },
  {
   "cell_type": "code",
   "execution_count": 63,
   "metadata": {},
   "outputs": [],
   "source": [
    "# Normalizing the data\n",
    "# from sklearn.preprocessing import StandardScaler\n",
    "# sc = StandardScaler()\n",
    "# test_array_temp = dt_temp.values\n",
    "# test_array_temp.reshape(-1, 1)\n",
    "# test_array_temp = sc.fit_transform(test_array_temp)\n",
    "# print('Normalized data:')\n",
    "# print(test_array_temp[0])"
   ]
  },
  {
   "cell_type": "code",
   "execution_count": 64,
   "metadata": {},
   "outputs": [],
   "source": [
    "# create a function that return the time windows for the model to train on\n",
    "def univariate_data(dataset, start_index, end_index, history_size, target_size):\n",
    "    data = []\n",
    "    labels = []\n",
    "    \n",
    "    start_index = start_index + history_size\n",
    "    if end_index is None:\n",
    "        end_index = len(dataset) - target_size\n",
    "        \n",
    "    for i in range(start_index, end_index):\n",
    "        indices = range(i - history_size, i)\n",
    "        # Reshape data from (history_size,) to (history_size, 1)\n",
    "        data.append(np.reshape(dataset[indices], (history_size, 1)))\n",
    "        labels.append(dataset[i+target_size])\n",
    "        \n",
    "    return np.array(data), np.array(labels)"
   ]
  },
  {
   "cell_type": "markdown",
   "metadata": {},
   "source": [
    "In this part, the model will be given the last **`n`** recorded temperature observation, and needs to learn to predict the temperature at the next **`m`** time step."
   ]
  },
  {
   "cell_type": "code",
   "execution_count": 65,
   "metadata": {},
   "outputs": [
    {
     "name": "stdout",
     "output_type": "stream",
     "text": [
      "Single window of past history:\n",
      "[[-0.6824939 ]\n",
      " [-0.49230427]\n",
      " [-0.36717951]\n",
      " [-0.19200485]\n",
      " [-0.07188509]\n",
      " [ 0.02320973]\n",
      " [ 0.06825464]\n",
      " [ 0.05323967]\n",
      " [ 0.07826462]\n",
      " [ 0.02320973]\n",
      " [ 0.10829456]\n",
      " [ 0.07325963]\n",
      " [-0.19700984]\n",
      " [-0.44725935]\n",
      " [-0.56237413]\n",
      " [-0.63244399]\n",
      " [-0.63744898]\n",
      " [-0.65246396]\n",
      " [-0.69750887]\n",
      " [-0.8326436 ]\n",
      " [-1.01782824]\n",
      " [-1.0428532 ]\n",
      " [-1.03284321]\n",
      " [-1.07788813]\n",
      " [-1.01782824]\n",
      " [-0.99280329]\n",
      " [-0.96777834]\n",
      " [-0.8326436 ]\n",
      " [-0.85766856]\n",
      " [-0.75256376]]\n",
      "\n",
      " Target temperature to predict:\n",
      "-0.8076186532194914\n"
     ]
    }
   ],
   "source": [
    "# Create the univariate model\n",
    "data_past_history = 30 # number of last recorded data (n)\n",
    "data_future_target = 0 # number of time step (m)\n",
    "\n",
    "x_train, y_train = univariate_data(array_temp, 0, TRAIN_SPLIT, data_past_history, data_future_target)\n",
    "x_val, y_val = univariate_data(array_temp, TRAIN_SPLIT, None, data_past_history, data_future_target)\n",
    "\n",
    "print('Single window of past history:')\n",
    "print(x_train[0])\n",
    "print('\\n Target temperature to predict:')\n",
    "print(y_train[0])"
   ]
  },
  {
   "cell_type": "code",
   "execution_count": 66,
   "metadata": {},
   "outputs": [],
   "source": [
    "def create_time_steps(length):\n",
    "    return list(range(-length, 0))"
   ]
  },
  {
   "cell_type": "code",
   "execution_count": 67,
   "metadata": {},
   "outputs": [],
   "source": [
    "def show_plot(plot_data, delta, title):\n",
    "    labels = ['History', 'True Future', 'Model Prediction']\n",
    "    marker = ['.-', 'rx', 'go']\n",
    "    time_steps = create_time_steps(plot_data[0].shape[0])\n",
    "    if delta:\n",
    "        future = delta\n",
    "    else:\n",
    "        future = 0\n",
    "        \n",
    "    plt.title(title)\n",
    "    for i, x in enumerate(plot_data):\n",
    "        if i:\n",
    "            plt.plot(future, plot_data[i], marker[i], markersize=10, label=labels[i])\n",
    "        else:\n",
    "            plt.plot(time_steps, plot_data[i].flatten(), marker[i], label=labels[i])\n",
    "       \n",
    "    plt.legend()\n",
    "    plt.xlim([time_steps[0], (future+5)*2])\n",
    "    plt.xlabel('Time-Step')\n",
    "    return plt"
   ]
  },
  {
   "cell_type": "code",
   "execution_count": 68,
   "metadata": {
    "scrolled": true
   },
   "outputs": [
    {
     "data": {
      "text/plain": [
       "<module 'matplotlib.pyplot' from 'C:\\\\Users\\\\rudyh\\\\Documents\\\\Python_Code\\\\lib\\\\site-packages\\\\matplotlib\\\\pyplot.py'>"
      ]
     },
     "execution_count": 68,
     "metadata": {},
     "output_type": "execute_result"
    },
    {
     "data": {
      "image/png": "[encoded data removed]",
      "text/plain": [
       "<Figure size 864x360 with 1 Axes>"
      ]
     },
     "metadata": {
      "needs_background": "light"
     },
     "output_type": "display_data"
    }
   ],
   "source": [
    "show_plot([x_train[0], y_train[0]], 0, 'Test Sample')"
   ]
  },
  {
   "cell_type": "code",
   "execution_count": 69,
   "metadata": {},
   "outputs": [
    {
     "name": "stdout",
     "output_type": "stream",
     "text": [
      "Model: \"sequential\"\n",
      "_________________________________________________________________\n",
      "Layer (type)                 Output Shape              Param #   \n",
      "=================================================================\n",
      "dense (Dense)                (None, 30, 16)            32        \n",
      "_________________________________________________________________\n",
      "dense_1 (Dense)              (None, 30, 16)            272       \n",
      "_________________________________________________________________\n",
      "dense_2 (Dense)              (None, 30, 1)             17        \n",
      "=================================================================\n",
      "Total params: 321\n",
      "Trainable params: 321\n",
      "Non-trainable params: 0\n",
      "_________________________________________________________________\n",
      "Model: \"sequential_1\"\n",
      "_________________________________________________________________\n",
      "Layer (type)                 Output Shape              Param #   \n",
      "=================================================================\n",
      "lstm (LSTM)                  (None, 8)                 320       \n",
      "_________________________________________________________________\n",
      "dense_3 (Dense)              (None, 1)                 9         \n",
      "=================================================================\n",
      "Total params: 329\n",
      "Trainable params: 329\n",
      "Non-trainable params: 0\n",
      "_________________________________________________________________\n"
     ]
    }
   ],
   "source": [
    "from tensorflow.keras import layers\n",
    "tf.keras.backend.clear_session()  # For easy reset of notebook state.\n",
    "\n",
    "# Normal Sequential model\n",
    "model_1 = tf.keras.models.Sequential([\n",
    "    tf.keras.layers.Dense(16, input_shape=x_train.shape[-2:]), \n",
    "    tf.keras.layers.Dense(16, activation='relu'),\n",
    "    tf.keras.layers.Dense(1)\n",
    "])\n",
    "\n",
    "# Compare with simple LSTM Model, according to several sources LSTM is suitable for modeling time series data\n",
    "model_2 = tf.keras.models.Sequential(\n",
    "    [tf.keras.layers.LSTM(8, input_shape=x_train.shape[-2:]), tf.keras.layers.Dense(1)]\n",
    ")\n",
    "model_1.summary()\n",
    "model_2.summary()"
   ]
  },
  {
   "cell_type": "code",
   "execution_count": 70,
   "metadata": {},
   "outputs": [],
   "source": [
    "# Not worked yet\n",
    "# model.compile(optimizer=tf.keras.optimizers.Adam(0.01),\n",
    "#               loss=tf.keras.losses.CategoricalCrossentropy(from_logits=True),\n",
    "#               metrics=['accuracy'])\n",
    "\n",
    "# Use simple parameter, need more explore in this area\n",
    "model_1.compile(optimizer='adam', loss='mae')\n",
    "model_2.compile(optimizer='adam', loss='mae')"
   ]
  },
  {
   "cell_type": "markdown",
   "metadata": {},
   "source": [
    "**Further reading:**\n",
    "    \n",
    "    1. https://stats.stackexchange.com/questions/153531/what-is-batch-size-in-neural-network\n",
    "    2. https://stackoverflow.com/questions/45943675/meaning-of-validation-steps-in-keras-sequential-fit-generator-parameter-list/45944225\n",
    "    3. https://stats.stackexchange.com/questions/181/how-to-choose-the-number-of-hidden-layers-and-nodes-in-a-feedforward-neural-netw"
   ]
  },
  {
   "cell_type": "code",
   "execution_count": 71,
   "metadata": {},
   "outputs": [],
   "source": [
    "BATCH_SIZE = 256\n",
    "BUFFER_SIZE = 10000\n",
    "\n",
    "datatrain = tf.data.Dataset.from_tensor_slices((x_train, y_train))\n",
    "datatrain = datatrain.cache().shuffle(BUFFER_SIZE).batch(BATCH_SIZE).repeat()\n",
    "\n",
    "dataval = tf.data.Dataset.from_tensor_slices((x_val, y_val))\n",
    "dataval = dataval.batch(BATCH_SIZE).repeat()"
   ]
  },
  {
   "cell_type": "code",
   "execution_count": 72,
   "metadata": {},
   "outputs": [],
   "source": [
    "# dataset = tf.data.Dataset.from_tensor_slices((x_train, y_train))\n",
    "# dataset = dataset.batch(32)\n",
    "\n",
    "# val_dataset = tf.data.Dataset.from_tensor_slices((x_val, y_val))\n",
    "# val_dataset = val_dataset.batch(32)"
   ]
  },
  {
   "cell_type": "code",
   "execution_count": 73,
   "metadata": {},
   "outputs": [
    {
     "name": "stdout",
     "output_type": "stream",
     "text": [
      "Train for 200 steps, validate for 50 steps\n",
      "Epoch 1/10\n",
      "200/200 [==============================] - 1s 7ms/step - loss: 0.6002 - val_loss: 0.7154\n",
      "Epoch 2/10\n",
      "200/200 [==============================] - 1s 5ms/step - loss: 0.8129 - val_loss: 0.7022\n",
      "Epoch 3/10\n",
      "200/200 [==============================] - 1s 5ms/step - loss: 0.7974 - val_loss: 0.7008\n",
      "Epoch 4/10\n",
      "200/200 [==============================] - 1s 5ms/step - loss: 0.6201 - val_loss: 0.7518\n",
      "Epoch 5/10\n",
      "200/200 [==============================] - 1s 5ms/step - loss: 0.7549 - val_loss: 0.7077\n",
      "Epoch 6/10\n",
      "200/200 [==============================] - 1s 5ms/step - loss: 0.7994 - val_loss: 0.7036\n",
      "Epoch 7/10\n",
      "200/200 [==============================] - 1s 5ms/step - loss: 0.7809 - val_loss: 0.7024\n",
      "Epoch 8/10\n",
      "200/200 [==============================] - 1s 5ms/step - loss: 0.5791 - val_loss: 0.7198\n",
      "Epoch 9/10\n",
      "200/200 [==============================] - 1s 5ms/step - loss: 0.8123 - val_loss: 0.7033\n",
      "Epoch 10/10\n",
      "200/200 [==============================] - 1s 6ms/step - loss: 0.7909 - val_loss: 0.7033\n",
      "Train for 200 steps, validate for 50 steps\n",
      "Epoch 1/10\n",
      "200/200 [==============================] - 6s 30ms/step - loss: 0.5774 - val_loss: 0.5227\n",
      "Epoch 2/10\n",
      "200/200 [==============================] - 4s 22ms/step - loss: 0.5553 - val_loss: 0.2907\n",
      "Epoch 3/10\n",
      "200/200 [==============================] - 4s 22ms/step - loss: 0.3596 - val_loss: 0.2180\n",
      "Epoch 4/10\n",
      "200/200 [==============================] - 4s 22ms/step - loss: 0.2150 - val_loss: 0.2240\n",
      "Epoch 5/10\n",
      "200/200 [==============================] - 4s 19ms/step - loss: 0.4449 - val_loss: 0.2141\n",
      "Epoch 6/10\n",
      "200/200 [==============================] - 4s 19ms/step - loss: 0.3906 - val_loss: 0.2119\n",
      "Epoch 7/10\n",
      "200/200 [==============================] - 4s 19ms/step - loss: 0.2642 - val_loss: 0.2078\n",
      "Epoch 8/10\n",
      "200/200 [==============================] - 4s 19ms/step - loss: 0.2665 - val_loss: 0.2139\n",
      "Epoch 9/10\n",
      "200/200 [==============================] - 4s 20ms/step - loss: 0.4397 - val_loss: 0.2137\n",
      "Epoch 10/10\n",
      "200/200 [==============================] - 4s 20ms/step - loss: 0.3452 - val_loss: 0.2067\n"
     ]
    }
   ],
   "source": [
    "EPOCHS = 10\n",
    "STEPS_PER_EPOCH = 200 # number of time steps\n",
    "VALIDATION_STEPS = 50\n",
    "\n",
    "# Train the model\n",
    "model_1_history = model_1.fit(datatrain, epochs=EPOCHS, steps_per_epoch=STEPS_PER_EPOCH, validation_data=dataval, \n",
    "                      validation_steps=VALIDATION_STEPS)\n",
    "model_2_history = model_2.fit(datatrain, epochs=EPOCHS, steps_per_epoch=STEPS_PER_EPOCH, validation_data=dataval, \n",
    "                      validation_steps=VALIDATION_STEPS)"
   ]
  },
  {
   "cell_type": "code",
   "execution_count": 74,
   "metadata": {},
   "outputs": [],
   "source": [
    "def plot_train_history(history, title):\n",
    "    loss = history.history['loss']\n",
    "    val_loss = history.history['val_loss']\n",
    "    \n",
    "    epochs = range(len(loss))\n",
    "    \n",
    "    plt.figure()\n",
    "    \n",
    "    plt.plot(epochs, loss, 'b', label='Training Loss')\n",
    "    plt.plot(epochs, val_loss, 'r', label='Validation Loss')\n",
    "    plt.title(title)\n",
    "    plt.legend()\n",
    "    \n",
    "    plt.show()"
   ]
  },
  {
   "cell_type": "code",
   "execution_count": 75,
   "metadata": {},
   "outputs": [
    {
     "data": {
      "image/png": "[encoded data removed]",
      "text/plain": [
       "<Figure size 864x360 with 1 Axes>"
      ]
     },
     "metadata": {
      "needs_background": "light"
     },
     "output_type": "display_data"
    },
    {
     "data": {
      "image/png": "[encoded data removed]",
      "text/plain": [
       "<Figure size 864x360 with 1 Axes>"
      ]
     },
     "metadata": {
      "needs_background": "light"
     },
     "output_type": "display_data"
    }
   ],
   "source": [
    "plot_train_history(model_1_history, 'First Model Training and Validation Loss')\n",
    "plot_train_history(model_2_history, 'Second Model Training and Validation Loss')"
   ]
  },
  {
   "cell_type": "markdown",
   "metadata": {},
   "source": [
    "**The graph above indicates that the model performance was not really good because we only use single feature (temperature)**\n",
    "First model is not really clear whether it is overfit or underfit, but the second model clealy underfit. Second model need hyperparameter tuning or because it used only single feature.\n",
    "\n",
    "In the next section we will use multi-feature/multivariate forecasting."
   ]
  },
  {
   "cell_type": "markdown",
   "metadata": {},
   "source": [
    "Further readings:\n",
    "    1. https://developers.google.com/machine-learning/crash-course/descending-into-ml/training-and-loss\n",
    "    2. https://stackoverflow.com/questions/48226086/training-loss-and-validation-loss-in-deep-learning"
   ]
  },
  {
   "cell_type": "markdown",
   "metadata": {},
   "source": [
    "# Multivariate Forecasting"
   ]
  },
  {
   "cell_type": "code",
   "execution_count": 76,
   "metadata": {},
   "outputs": [],
   "source": [
    "# Exploratory Data Analysis"
   ]
  },
  {
   "cell_type": "code",
   "execution_count": 77,
   "metadata": {},
   "outputs": [
    {
     "data": {
      "text/html": [
       "<div>\n",
       "<style scoped>\n",
       "    .dataframe tbody tr th:only-of-type {\n",
       "        vertical-align: middle;\n",
       "    }\n",
       "\n",
       "    .dataframe tbody tr th {\n",
       "        vertical-align: top;\n",
       "    }\n",
       "\n",
       "    .dataframe thead th {\n",
       "        text-align: right;\n",
       "    }\n",
       "</style>\n",
       "<table border=\"1\" class=\"dataframe\">\n",
       "  <thead>\n",
       "    <tr style=\"text-align: right;\">\n",
       "      <th></th>\n",
       "      <th>temp</th>\n",
       "      <th>temp_min</th>\n",
       "      <th>temp_max</th>\n",
       "      <th>pressure</th>\n",
       "      <th>humidity</th>\n",
       "    </tr>\n",
       "    <tr>\n",
       "      <th>dt_iso</th>\n",
       "      <th></th>\n",
       "      <th></th>\n",
       "      <th></th>\n",
       "      <th></th>\n",
       "      <th></th>\n",
       "    </tr>\n",
       "  </thead>\n",
       "  <tbody>\n",
       "    <tr>\n",
       "      <th>1990-01-01 00:00:00</th>\n",
       "      <td>25.82</td>\n",
       "      <td>25.82</td>\n",
       "      <td>25.82</td>\n",
       "      <td>1010.0</td>\n",
       "      <td>86</td>\n",
       "    </tr>\n",
       "    <tr>\n",
       "      <th>1990-01-01 01:00:00</th>\n",
       "      <td>26.20</td>\n",
       "      <td>26.20</td>\n",
       "      <td>26.20</td>\n",
       "      <td>1011.0</td>\n",
       "      <td>84</td>\n",
       "    </tr>\n",
       "    <tr>\n",
       "      <th>1990-01-01 02:00:00</th>\n",
       "      <td>26.45</td>\n",
       "      <td>26.45</td>\n",
       "      <td>26.45</td>\n",
       "      <td>1011.0</td>\n",
       "      <td>84</td>\n",
       "    </tr>\n",
       "    <tr>\n",
       "      <th>1990-01-01 03:00:00</th>\n",
       "      <td>26.80</td>\n",
       "      <td>26.80</td>\n",
       "      <td>26.80</td>\n",
       "      <td>1011.0</td>\n",
       "      <td>82</td>\n",
       "    </tr>\n",
       "    <tr>\n",
       "      <th>1990-01-01 04:00:00</th>\n",
       "      <td>27.04</td>\n",
       "      <td>27.04</td>\n",
       "      <td>27.04</td>\n",
       "      <td>1010.0</td>\n",
       "      <td>82</td>\n",
       "    </tr>\n",
       "  </tbody>\n",
       "</table>\n",
       "</div>"
      ],
      "text/plain": [
       "                      temp  temp_min  temp_max  pressure  humidity\n",
       "dt_iso                                                            \n",
       "1990-01-01 00:00:00  25.82     25.82     25.82    1010.0        86\n",
       "1990-01-01 01:00:00  26.20     26.20     26.20    1011.0        84\n",
       "1990-01-01 02:00:00  26.45     26.45     26.45    1011.0        84\n",
       "1990-01-01 03:00:00  26.80     26.80     26.80    1011.0        82\n",
       "1990-01-01 04:00:00  27.04     27.04     27.04    1010.0        82"
      ]
     },
     "execution_count": 77,
     "metadata": {},
     "output_type": "execute_result"
    }
   ],
   "source": [
    "# df_multivariate = df.drop(['weather_main', 'weather_description'], axis=1)\n",
    "df_multivariate = df[['temp', 'temp_min', 'temp_max', 'pressure', 'humidity']]\n",
    "df_multivariate.head()"
   ]
  },
  {
   "cell_type": "code",
   "execution_count": 78,
   "metadata": {
    "scrolled": false
   },
   "outputs": [
    {
     "data": {
      "image/png": "[encoded data removed]",
      "text/plain": [
       "<Figure size 864x360 with 2 Axes>"
      ]
     },
     "metadata": {
      "needs_background": "light"
     },
     "output_type": "display_data"
    }
   ],
   "source": [
    "import seaborn as sns\n",
    "\n",
    "sns.heatmap(df_multivariate.corr(), annot=True)\n",
    "plt.show()"
   ]
  },
  {
   "cell_type": "code",
   "execution_count": 79,
   "metadata": {},
   "outputs": [
    {
     "data": {
      "text/html": [
       "<div>\n",
       "<style scoped>\n",
       "    .dataframe tbody tr th:only-of-type {\n",
       "        vertical-align: middle;\n",
       "    }\n",
       "\n",
       "    .dataframe tbody tr th {\n",
       "        vertical-align: top;\n",
       "    }\n",
       "\n",
       "    .dataframe thead th {\n",
       "        text-align: right;\n",
       "    }\n",
       "</style>\n",
       "<table border=\"1\" class=\"dataframe\">\n",
       "  <thead>\n",
       "    <tr style=\"text-align: right;\">\n",
       "      <th></th>\n",
       "      <th>temp</th>\n",
       "      <th>temp_min</th>\n",
       "      <th>temp_max</th>\n",
       "      <th>pressure</th>\n",
       "      <th>humidity</th>\n",
       "    </tr>\n",
       "    <tr>\n",
       "      <th>dt_iso</th>\n",
       "      <th></th>\n",
       "      <th></th>\n",
       "      <th></th>\n",
       "      <th></th>\n",
       "      <th></th>\n",
       "    </tr>\n",
       "  </thead>\n",
       "  <tbody>\n",
       "    <tr>\n",
       "      <th>2019-12-31 19:00:00</th>\n",
       "      <td>27.08</td>\n",
       "      <td>27.0</td>\n",
       "      <td>27.2</td>\n",
       "      <td>1009.0</td>\n",
       "      <td>88</td>\n",
       "    </tr>\n",
       "    <tr>\n",
       "      <th>2019-12-31 20:00:00</th>\n",
       "      <td>26.64</td>\n",
       "      <td>26.0</td>\n",
       "      <td>27.0</td>\n",
       "      <td>1009.0</td>\n",
       "      <td>94</td>\n",
       "    </tr>\n",
       "    <tr>\n",
       "      <th>2019-12-31 21:00:00</th>\n",
       "      <td>26.00</td>\n",
       "      <td>26.0</td>\n",
       "      <td>26.0</td>\n",
       "      <td>1009.0</td>\n",
       "      <td>94</td>\n",
       "    </tr>\n",
       "    <tr>\n",
       "      <th>2019-12-31 22:00:00</th>\n",
       "      <td>26.00</td>\n",
       "      <td>26.0</td>\n",
       "      <td>26.0</td>\n",
       "      <td>1009.0</td>\n",
       "      <td>94</td>\n",
       "    </tr>\n",
       "    <tr>\n",
       "      <th>2019-12-31 23:00:00</th>\n",
       "      <td>27.00</td>\n",
       "      <td>27.0</td>\n",
       "      <td>27.0</td>\n",
       "      <td>1010.0</td>\n",
       "      <td>88</td>\n",
       "    </tr>\n",
       "  </tbody>\n",
       "</table>\n",
       "</div>"
      ],
      "text/plain": [
       "                      temp  temp_min  temp_max  pressure  humidity\n",
       "dt_iso                                                            \n",
       "2019-12-31 19:00:00  27.08      27.0      27.2    1009.0        88\n",
       "2019-12-31 20:00:00  26.64      26.0      27.0    1009.0        94\n",
       "2019-12-31 21:00:00  26.00      26.0      26.0    1009.0        94\n",
       "2019-12-31 22:00:00  26.00      26.0      26.0    1009.0        94\n",
       "2019-12-31 23:00:00  27.00      27.0      27.0    1010.0        88"
      ]
     },
     "execution_count": 79,
     "metadata": {},
     "output_type": "execute_result"
    }
   ],
   "source": [
    "# Don't use data in 2020\n",
    "df_multivariate = df_multivariate.loc['1990':'2019']\n",
    "df_multivariate.tail()"
   ]
  },
  {
   "cell_type": "code",
   "execution_count": 80,
   "metadata": {},
   "outputs": [
    {
     "name": "stdout",
     "output_type": "stream",
     "text": [
      "Number of dataset: 264756\n",
      "10 samples of data: [[  25.82   25.82   25.82 1010.     86.  ]\n",
      " [  26.2    26.2    26.2  1011.     84.  ]\n",
      " [  26.45   26.45   26.45 1011.     84.  ]\n",
      " [  26.8    26.8    26.8  1011.     82.  ]\n",
      " [  27.04   27.04   27.04 1010.     82.  ]\n",
      " [  27.23   27.23   27.23 1009.     82.  ]\n",
      " [  27.32   27.32   27.32 1008.     82.  ]\n",
      " [  27.29   27.29   27.29 1008.     82.  ]\n",
      " [  27.34   27.34   27.34 1007.     81.  ]\n",
      " [  27.23   27.23   27.23 1007.     82.  ]]\n"
     ]
    }
   ],
   "source": [
    "# Convert the dataframe to numpy array\n",
    "# df_multivariate = df_multivariate.drop('date', axis=1)\n",
    "dt_multivariate = df_multivariate.values\n",
    "print('Number of dataset: {}'.format(len(df_multivariate)))\n",
    "print('10 samples of data: {}'.format(dt_multivariate[:10]))"
   ]
  },
  {
   "cell_type": "code",
   "execution_count": 81,
   "metadata": {},
   "outputs": [
    {
     "name": "stdout",
     "output_type": "stream",
     "text": [
      "Normalized data:\n",
      "[ 0.06489342  0.1281178   0.00158411 -0.88977112  0.01811545]\n",
      "(264756, 5)\n"
     ]
    }
   ],
   "source": [
    "#Normalizing the data using StandardScaler from sklearn, instead of using the conventional calculation like the above before\n",
    "from sklearn.preprocessing import StandardScaler\n",
    "sc = StandardScaler()\n",
    "dt_multivariate = sc.fit_transform(dt_multivariate)\n",
    "print('Normalized data:')\n",
    "print(dt_multivariate[10])\n",
    "print(dt_multivariate.shape)"
   ]
  },
  {
   "cell_type": "markdown",
   "metadata": {},
   "source": [
    "## Single Step Model\n",
    "\n",
    "In a single step setup, the model learns to predict a single point in the future based on history provided"
   ]
  },
  {
   "cell_type": "code",
   "execution_count": 82,
   "metadata": {},
   "outputs": [],
   "source": [
    "def multivariate_data(dataset, target, start_index, end_index, history_size, target_size, step, single_step=False):\n",
    "    data = []\n",
    "    labels = []\n",
    "    \n",
    "    start_index = start_index + history_size\n",
    "    if end_index is None:\n",
    "        end_index = len(dataset) - target_size\n",
    "        \n",
    "    for i in range(start_index, end_index):\n",
    "        indices = range(i - history_size, i, step)\n",
    "        data.append(dataset[indices])\n",
    "        \n",
    "        if single_step:\n",
    "            labels.append(target[i+target_size])\n",
    "        else:\n",
    "            labels.append(target[i:i+target_size])\n",
    "            \n",
    "    return np.array(data), np.array(labels)"
   ]
  },
  {
   "cell_type": "code",
   "execution_count": 83,
   "metadata": {},
   "outputs": [],
   "source": [
    "TRAIN_SPLIT = num_data_train(60, df.shape[0]) # Split"
   ]
  },
  {
   "cell_type": "markdown",
   "metadata": {},
   "source": [
    "Use number of hours (**`past_history`**) of data to predict future (**`future_target`**) hourly temperature"
   ]
  },
  {
   "cell_type": "markdown",
   "metadata": {},
   "source": [
    "Note:\n",
    "    - LSTMs expect 3D input, and it can be challenging to get your head around this the first time.\n",
    "    - LSTMs don’t like sequences of more than 200-400 time steps, so the data will need to be split into samples."
   ]
  },
  {
   "cell_type": "code",
   "execution_count": 137,
   "metadata": {},
   "outputs": [],
   "source": [
    "past_history = 168\n",
    "future_target = 48\n",
    "STEP = 24 # We can customize how many time steps that we want to use\n",
    "\n",
    "x_train_single, y_train_single = multivariate_data(dt_multivariate, dt_multivariate[:, 1], 0, TRAIN_SPLIT, past_history, \n",
    "                                                   future_target, STEP, single_step=True)\n",
    "x_val_single, y_val_single = multivariate_data(dt_multivariate, dt_multivariate[:, 1], TRAIN_SPLIT, None, past_history, \n",
    "                                               future_target, STEP, single_step=True)"
   ]
  },
  {
   "cell_type": "code",
   "execution_count": 138,
   "metadata": {},
   "outputs": [
    {
     "name": "stdout",
     "output_type": "stream",
     "text": [
      "158786 158786\n",
      "105586 105586\n"
     ]
    }
   ],
   "source": [
    "print(len(x_train_single), len(y_train_single))\n",
    "print(len(x_val_single), len(y_val_single))"
   ]
  },
  {
   "cell_type": "code",
   "execution_count": 139,
   "metadata": {},
   "outputs": [
    {
     "name": "stdout",
     "output_type": "stream",
     "text": [
      "Single window of past history: (7, 5)\n"
     ]
    }
   ],
   "source": [
    "# Test at a single data point\n",
    "print('Single window of past history: {}'.format(x_train_single[0].shape))"
   ]
  },
  {
   "cell_type": "code",
   "execution_count": 140,
   "metadata": {},
   "outputs": [],
   "source": [
    "train_data_single = tf.data.Dataset.from_tensor_slices((x_train_single, y_train_single))\n",
    "train_data_single = train_data_single.cache().shuffle(BUFFER_SIZE).batch(BATCH_SIZE).repeat()\n",
    "\n",
    "val_data_single = tf.data.Dataset.from_tensor_slices((x_val_single, y_val_single))\n",
    "val_data_single = val_data_single.batch(BATCH_SIZE).repeat()"
   ]
  },
  {
   "cell_type": "code",
   "execution_count": 141,
   "metadata": {},
   "outputs": [
    {
     "name": "stdout",
     "output_type": "stream",
     "text": [
      "(158786, 7, 5) (105586, 7, 5)\n",
      "\n",
      "(158786,) (105586,)\n"
     ]
    }
   ],
   "source": [
    "print(x_train_single.shape, x_val_single.shape)\n",
    "print()\n",
    "print(y_train_single.shape, y_val_single.shape)"
   ]
  },
  {
   "cell_type": "code",
   "execution_count": 142,
   "metadata": {},
   "outputs": [
    {
     "name": "stdout",
     "output_type": "stream",
     "text": [
      "Model: \"sequential\"\n",
      "_________________________________________________________________\n",
      "Layer (type)                 Output Shape              Param #   \n",
      "=================================================================\n",
      "dense (Dense)                (None, 7, 32)             192       \n",
      "_________________________________________________________________\n",
      "dense_1 (Dense)              (None, 7, 32)             1056      \n",
      "_________________________________________________________________\n",
      "dense_2 (Dense)              (None, 7, 1)              33        \n",
      "=================================================================\n",
      "Total params: 1,281\n",
      "Trainable params: 1,281\n",
      "Non-trainable params: 0\n",
      "_________________________________________________________________\n",
      "Model: \"sequential_1\"\n",
      "_________________________________________________________________\n",
      "Layer (type)                 Output Shape              Param #   \n",
      "=================================================================\n",
      "lstm (LSTM)                  (None, 32)                4864      \n",
      "_________________________________________________________________\n",
      "dense_3 (Dense)              (None, 32)                1056      \n",
      "_________________________________________________________________\n",
      "dense_4 (Dense)              (None, 1)                 33        \n",
      "=================================================================\n",
      "Total params: 5,953\n",
      "Trainable params: 5,953\n",
      "Non-trainable params: 0\n",
      "_________________________________________________________________\n"
     ]
    }
   ],
   "source": [
    "# Normal Sequential model\n",
    "tf.keras.backend.clear_session()\n",
    "single_step_model_1 = tf.keras.models.Sequential([\n",
    "    tf.keras.layers.Dense(32, input_shape=x_train_single.shape[-2:]), \n",
    "    tf.keras.layers.Dense(32, activation='relu'),\n",
    "    tf.keras.layers.Dense(1)\n",
    "])\n",
    "single_step_model_1.compile(optimizer='sgd', loss='mae')\n",
    "\n",
    "# 2 layer LSTM\n",
    "single_step_model_2 = tf.keras.models.Sequential()\n",
    "single_step_model_2.add(tf.keras.layers.LSTM(32, input_shape=x_train_single.shape[-2:]))\n",
    "single_step_model_2.add(tf.keras.layers.Dense(32, activation='relu'))\n",
    "single_step_model_2.add(tf.keras.layers.Dense(1))\n",
    "single_step_model_2.compile(optimizer='sgd', loss='mae')\n",
    "\n",
    "single_step_model_1.summary()\n",
    "single_step_model_2.summary()"
   ]
  },
  {
   "cell_type": "code",
   "execution_count": 143,
   "metadata": {},
   "outputs": [
    {
     "name": "stdout",
     "output_type": "stream",
     "text": [
      "(256, 7, 1)\n",
      "(256, 1)\n"
     ]
    }
   ],
   "source": [
    "for x, y in val_data_single.take(1):\n",
    "    print(single_step_model_1.predict(x).shape)\n",
    "    print(single_step_model_2.predict(x).shape)"
   ]
  },
  {
   "cell_type": "code",
   "execution_count": 144,
   "metadata": {},
   "outputs": [
    {
     "name": "stdout",
     "output_type": "stream",
     "text": [
      "Train for 500 steps, validate for 100 steps\n",
      "Epoch 1/100\n",
      "500/500 [==============================] - 2s 5ms/step - loss: 0.6009 - val_loss: 0.6071\n",
      "Epoch 2/100\n",
      "500/500 [==============================] - 2s 4ms/step - loss: 0.5814 - val_loss: 0.6046\n",
      "Epoch 3/100\n",
      "500/500 [==============================] - 2s 4ms/step - loss: 0.5799 - val_loss: 0.6064\n",
      "Epoch 4/100\n",
      "500/500 [==============================] - 2s 4ms/step - loss: 0.5738 - val_loss: 0.6050\n",
      "Epoch 5/100\n",
      "500/500 [==============================] - 2s 4ms/step - loss: 0.6107 - val_loss: 0.6059\n",
      "Epoch 6/100\n",
      "500/500 [==============================] - 2s 4ms/step - loss: 0.5947 - val_loss: 0.5974\n",
      "Epoch 7/100\n",
      "500/500 [==============================] - 2s 4ms/step - loss: 0.5795 - val_loss: 0.5962\n",
      "Epoch 8/100\n",
      "500/500 [==============================] - 2s 4ms/step - loss: 0.5782 - val_loss: 0.6050\n",
      "Epoch 9/100\n",
      "500/500 [==============================] - 2s 4ms/step - loss: 0.5724 - val_loss: 0.5951\n",
      "Epoch 10/100\n",
      "500/500 [==============================] - 2s 4ms/step - loss: 0.6013 - val_loss: 0.6132\n",
      "Epoch 11/100\n",
      "500/500 [==============================] - 2s 4ms/step - loss: 0.6005 - val_loss: 0.5907\n",
      "Epoch 12/100\n",
      "500/500 [==============================] - 2s 4ms/step - loss: 0.5791 - val_loss: 0.5927\n",
      "Epoch 13/100\n",
      "500/500 [==============================] - 2s 4ms/step - loss: 0.5781 - val_loss: 0.5991\n",
      "Epoch 14/100\n",
      "500/500 [==============================] - 2s 4ms/step - loss: 0.5694 - val_loss: 0.5920\n",
      "Epoch 15/100\n",
      "500/500 [==============================] - 2s 4ms/step - loss: 0.5928 - val_loss: 0.6384\n",
      "Epoch 16/100\n",
      "500/500 [==============================] - 2s 4ms/step - loss: 0.6053 - val_loss: 0.5867\n",
      "Epoch 17/100\n",
      "500/500 [==============================] - 2s 4ms/step - loss: 0.5803 - val_loss: 0.5915\n",
      "Epoch 18/100\n",
      "500/500 [==============================] - 2s 4ms/step - loss: 0.5775 - val_loss: 0.5945\n",
      "Epoch 19/100\n",
      "500/500 [==============================] - 2s 4ms/step - loss: 0.5683 - val_loss: 0.5922\n",
      "Epoch 20/100\n",
      "500/500 [==============================] - 2s 4ms/step - loss: 0.5844 - val_loss: 0.6500\n",
      "Epoch 21/100\n",
      "500/500 [==============================] - 2s 4ms/step - loss: 0.6104 - val_loss: 0.5853\n",
      "Epoch 22/100\n",
      "500/500 [==============================] - 2s 4ms/step - loss: 0.5811 - val_loss: 0.5891\n",
      "Epoch 23/100\n",
      "500/500 [==============================] - 2s 4ms/step - loss: 0.5774 - val_loss: 0.5914\n",
      "Epoch 24/100\n",
      "500/500 [==============================] - 2s 4ms/step - loss: 0.5673 - val_loss: 0.5895\n",
      "Epoch 25/100\n",
      "500/500 [==============================] - 2s 4ms/step - loss: 0.5788 - val_loss: 0.6594\n",
      "Epoch 26/100\n",
      "500/500 [==============================] - 2s 4ms/step - loss: 0.6114 - val_loss: 0.5848\n",
      "Epoch 27/100\n",
      "500/500 [==============================] - 2s 4ms/step - loss: 0.5838 - val_loss: 0.5887\n",
      "Epoch 28/100\n",
      "500/500 [==============================] - 2s 4ms/step - loss: 0.5754 - val_loss: 0.5895\n",
      "Epoch 29/100\n",
      "500/500 [==============================] - 2s 4ms/step - loss: 0.5698 - val_loss: 0.5926\n",
      "Epoch 30/100\n",
      "500/500 [==============================] - 2s 4ms/step - loss: 0.5733 - val_loss: 0.6482\n",
      "Epoch 31/100\n",
      "500/500 [==============================] - 2s 4ms/step - loss: 0.6121 - val_loss: 0.5849\n",
      "Epoch 32/100\n",
      "500/500 [==============================] - 2s 4ms/step - loss: 0.5853 - val_loss: 0.5875\n",
      "Epoch 33/100\n",
      "500/500 [==============================] - 2s 4ms/step - loss: 0.5753 - val_loss: 0.5901\n",
      "Epoch 34/100\n",
      "500/500 [==============================] - 2s 4ms/step - loss: 0.5705 - val_loss: 0.5885\n",
      "Epoch 35/100\n",
      "500/500 [==============================] - 2s 4ms/step - loss: 0.5713 - val_loss: 0.6314\n",
      "Epoch 36/100\n",
      "500/500 [==============================] - 2s 4ms/step - loss: 0.6113 - val_loss: 0.5850\n",
      "Epoch 37/100\n",
      "500/500 [==============================] - 2s 4ms/step - loss: 0.5862 - val_loss: 0.5880\n",
      "Epoch 38/100\n",
      "500/500 [==============================] - 2s 4ms/step - loss: 0.5741 - val_loss: 0.5881\n",
      "Epoch 39/100\n",
      "500/500 [==============================] - 2s 4ms/step - loss: 0.5721 - val_loss: 0.5886\n",
      "Epoch 40/100\n",
      "500/500 [==============================] - 2s 4ms/step - loss: 0.5691 - val_loss: 0.6092\n",
      "Epoch 41/100\n",
      "500/500 [==============================] - 2s 4ms/step - loss: 0.6084 - val_loss: 0.5932\n",
      "Epoch 42/100\n",
      "500/500 [==============================] - 2s 4ms/step - loss: 0.5884 - val_loss: 0.5867\n",
      "Epoch 43/100\n",
      "500/500 [==============================] - 2s 4ms/step - loss: 0.5748 - val_loss: 0.5880\n",
      "Epoch 44/100\n",
      "500/500 [==============================] - 2s 4ms/step - loss: 0.5726 - val_loss: 0.5937\n",
      "Epoch 45/100\n",
      "500/500 [==============================] - 2s 4ms/step - loss: 0.5681 - val_loss: 0.5961\n",
      "Epoch 46/100\n",
      "500/500 [==============================] - 2s 4ms/step - loss: 0.6017 - val_loss: 0.6180\n",
      "Epoch 47/100\n",
      "500/500 [==============================] - 2s 4ms/step - loss: 0.5946 - val_loss: 0.5870\n",
      "Epoch 48/100\n",
      "500/500 [==============================] - 2s 4ms/step - loss: 0.5741 - val_loss: 0.5872\n",
      "Epoch 49/100\n",
      "500/500 [==============================] - 2s 4ms/step - loss: 0.5747 - val_loss: 0.5916\n",
      "Epoch 50/100\n",
      "500/500 [==============================] - 2s 4ms/step - loss: 0.5670 - val_loss: 0.5895\n",
      "Epoch 51/100\n",
      "500/500 [==============================] - 2s 4ms/step - loss: 0.5947 - val_loss: 0.6271\n",
      "Epoch 52/100\n",
      "500/500 [==============================] - 2s 4ms/step - loss: 0.6002 - val_loss: 0.5846\n",
      "Epoch 53/100\n",
      "500/500 [==============================] - 2s 4ms/step - loss: 0.5756 - val_loss: 0.5876\n",
      "Epoch 54/100\n",
      "500/500 [==============================] - 2s 4ms/step - loss: 0.5748 - val_loss: 0.5901\n",
      "Epoch 55/100\n",
      "500/500 [==============================] - 2s 4ms/step - loss: 0.5662 - val_loss: 0.5907\n",
      "Epoch 56/100\n",
      "500/500 [==============================] - 2s 4ms/step - loss: 0.5857 - val_loss: 0.6505\n",
      "Epoch 57/100\n",
      "500/500 [==============================] - 2s 4ms/step - loss: 0.6062 - val_loss: 0.5840\n",
      "Epoch 58/100\n",
      "500/500 [==============================] - 2s 4ms/step - loss: 0.5781 - val_loss: 0.5877\n",
      "Epoch 59/100\n",
      "500/500 [==============================] - 2s 4ms/step - loss: 0.5752 - val_loss: 0.5878\n",
      "Epoch 60/100\n",
      "500/500 [==============================] - 2s 4ms/step - loss: 0.5658 - val_loss: 0.5899\n",
      "Epoch 61/100\n",
      "500/500 [==============================] - 2s 4ms/step - loss: 0.5802 - val_loss: 0.6547\n",
      "Epoch 62/100\n",
      "500/500 [==============================] - 2s 4ms/step - loss: 0.6097 - val_loss: 0.5838\n",
      "Epoch 63/100\n",
      "500/500 [==============================] - 2s 4ms/step - loss: 0.5813 - val_loss: 0.5853\n",
      "Epoch 64/100\n",
      "500/500 [==============================] - 2s 4ms/step - loss: 0.5738 - val_loss: 0.5871\n",
      "Epoch 65/100\n",
      "500/500 [==============================] - 2s 4ms/step - loss: 0.5673 - val_loss: 0.5898\n",
      "Epoch 66/100\n",
      "500/500 [==============================] - 2s 4ms/step - loss: 0.5748 - val_loss: 0.6579\n",
      "Epoch 67/100\n",
      "500/500 [==============================] - 2s 4ms/step - loss: 0.6108 - val_loss: 0.5840\n",
      "Epoch 68/100\n",
      "500/500 [==============================] - 2s 4ms/step - loss: 0.5830 - val_loss: 0.5864\n",
      "Epoch 69/100\n",
      "500/500 [==============================] - 2s 4ms/step - loss: 0.5745 - val_loss: 0.5881\n",
      "Epoch 70/100\n",
      "500/500 [==============================] - 2s 4ms/step - loss: 0.5692 - val_loss: 0.5880\n",
      "Epoch 71/100\n",
      "500/500 [==============================] - 2s 4ms/step - loss: 0.5711 - val_loss: 0.6343\n",
      "Epoch 72/100\n",
      "500/500 [==============================] - 2s 4ms/step - loss: 0.6107 - val_loss: 0.5843\n",
      "Epoch 73/100\n",
      "500/500 [==============================] - 2s 4ms/step - loss: 0.5851 - val_loss: 0.5860\n",
      "Epoch 74/100\n",
      "500/500 [==============================] - 2s 4ms/step - loss: 0.5740 - val_loss: 0.5875\n",
      "Epoch 75/100\n",
      "500/500 [==============================] - 2s 4ms/step - loss: 0.5699 - val_loss: 0.5869\n",
      "Epoch 76/100\n",
      "500/500 [==============================] - 2s 4ms/step - loss: 0.5700 - val_loss: 0.6159\n",
      "Epoch 77/100\n",
      "500/500 [==============================] - 2s 4ms/step - loss: 0.6098 - val_loss: 0.5842\n",
      "Epoch 78/100\n",
      "500/500 [==============================] - 2s 4ms/step - loss: 0.5861 - val_loss: 0.5861\n",
      "Epoch 79/100\n",
      "500/500 [==============================] - 2s 4ms/step - loss: 0.5738 - val_loss: 0.5859\n",
      "Epoch 80/100\n",
      "500/500 [==============================] - 2s 4ms/step - loss: 0.5714 - val_loss: 0.5917\n"
     ]
    },
    {
     "name": "stdout",
     "output_type": "stream",
     "text": [
      "Epoch 81/100\n",
      "500/500 [==============================] - 2s 4ms/step - loss: 0.5674 - val_loss: 0.6006\n",
      "Epoch 82/100\n",
      "500/500 [==============================] - 2s 4ms/step - loss: 0.6054 - val_loss: 0.6026\n",
      "Epoch 83/100\n",
      "500/500 [==============================] - 2s 4ms/step - loss: 0.5906 - val_loss: 0.5848\n",
      "Epoch 84/100\n",
      "500/500 [==============================] - 2s 4ms/step - loss: 0.5737 - val_loss: 0.5869\n",
      "Epoch 85/100\n",
      "500/500 [==============================] - 2s 4ms/step - loss: 0.5719 - val_loss: 0.5911\n",
      "Epoch 86/100\n",
      "500/500 [==============================] - 2s 4ms/step - loss: 0.5683 - val_loss: 0.5950\n",
      "Epoch 87/100\n",
      "500/500 [==============================] - 2s 4ms/step - loss: 0.5973 - val_loss: 0.6167\n",
      "Epoch 88/100\n",
      "500/500 [==============================] - 2s 4ms/step - loss: 0.5969 - val_loss: 0.5850\n",
      "Epoch 89/100\n",
      "500/500 [==============================] - 2s 4ms/step - loss: 0.5741 - val_loss: 0.5854\n",
      "Epoch 90/100\n",
      "500/500 [==============================] - 2s 4ms/step - loss: 0.5744 - val_loss: 0.5924\n",
      "Epoch 91/100\n",
      "500/500 [==============================] - 2s 4ms/step - loss: 0.5663 - val_loss: 0.5908\n",
      "Epoch 92/100\n",
      "500/500 [==============================] - 2s 4ms/step - loss: 0.5898 - val_loss: 0.6342\n",
      "Epoch 93/100\n",
      "500/500 [==============================] - 2s 4ms/step - loss: 0.6025 - val_loss: 0.5835\n",
      "Epoch 94/100\n",
      "500/500 [==============================] - 2s 4ms/step - loss: 0.5773 - val_loss: 0.5863\n",
      "Epoch 95/100\n",
      "500/500 [==============================] - 2s 4ms/step - loss: 0.5736 - val_loss: 0.5881\n",
      "Epoch 96/100\n",
      "500/500 [==============================] - 2s 4ms/step - loss: 0.5656 - val_loss: 0.5882\n",
      "Epoch 97/100\n",
      "500/500 [==============================] - 2s 4ms/step - loss: 0.5826 - val_loss: 0.6509\n",
      "Epoch 98/100\n",
      "500/500 [==============================] - 2s 4ms/step - loss: 0.6082 - val_loss: 0.5834\n",
      "Epoch 99/100\n",
      "500/500 [==============================] - 2s 4ms/step - loss: 0.5785 - val_loss: 0.5850\n",
      "Epoch 100/100\n",
      "500/500 [==============================] - 2s 4ms/step - loss: 0.5748 - val_loss: 0.5865\n",
      "Train for 500 steps, validate for 100 steps\n",
      "Epoch 1/100\n",
      "500/500 [==============================] - 9s 17ms/step - loss: 0.5516 - val_loss: 0.5310\n",
      "Epoch 2/100\n",
      "500/500 [==============================] - 7s 15ms/step - loss: 0.5109 - val_loss: 0.5307\n",
      "Epoch 3/100\n",
      "500/500 [==============================] - 7s 14ms/step - loss: 0.5063 - val_loss: 0.5403\n",
      "Epoch 4/100\n",
      "500/500 [==============================] - 7s 15ms/step - loss: 0.5007 - val_loss: 0.5144- ETA: 0s - loss: 0.500\n",
      "Epoch 5/100\n",
      "500/500 [==============================] - 7s 15ms/step - loss: 0.5305 - val_loss: 0.5125\n",
      "Epoch 6/100\n",
      "500/500 [==============================] - 7s 14ms/step - loss: 0.5197 - val_loss: 0.5163\n",
      "Epoch 7/100\n",
      "500/500 [==============================] - 7s 15ms/step - loss: 0.5071 - val_loss: 0.5238\n",
      "Epoch 8/100\n",
      "500/500 [==============================] - 8s 15ms/step - loss: 0.5043 - val_loss: 0.5363\n",
      "Epoch 9/100\n",
      "500/500 [==============================] - 8s 15ms/step - loss: 0.4983 - val_loss: 0.5096\n",
      "Epoch 10/100\n",
      "500/500 [==============================] - 8s 15ms/step - loss: 0.5213 - val_loss: 0.5109\n",
      "Epoch 11/100\n",
      "500/500 [==============================] - 8s 15ms/step - loss: 0.5235 - val_loss: 0.5110\n",
      "Epoch 12/100\n",
      "500/500 [==============================] - 8s 15ms/step - loss: 0.5046 - val_loss: 0.5200\n",
      "Epoch 13/100\n",
      "500/500 [==============================] - 7s 15ms/step - loss: 0.5049 - val_loss: 0.5237\n",
      "Epoch 14/100\n",
      "500/500 [==============================] - 8s 15ms/step - loss: 0.4960 - val_loss: 0.5086s\n",
      "Epoch 15/100\n",
      "500/500 [==============================] - 7s 15ms/step - loss: 0.5129 - val_loss: 0.5135loss: 0.51\n",
      "Epoch 16/100\n",
      "500/500 [==============================] - 7s 15ms/step - loss: 0.5253 - val_loss: 0.5064\n",
      "Epoch 17/100\n",
      "500/500 [==============================] - 7s 15ms/step - loss: 0.5063 - val_loss: 0.5134\n",
      "Epoch 18/100\n",
      "500/500 [==============================] - 8s 15ms/step - loss: 0.5028 - val_loss: 0.5157\n",
      "Epoch 19/100\n",
      "500/500 [==============================] - 8s 16ms/step - loss: 0.4943 - val_loss: 0.5069\n",
      "Epoch 20/100\n",
      "500/500 [==============================] - 8s 15ms/step - loss: 0.5061 - val_loss: 0.5194\n",
      "Epoch 21/100\n",
      "500/500 [==============================] - 7s 14ms/step - loss: 0.5277 - val_loss: 0.5039\n",
      "Epoch 22/100\n",
      "500/500 [==============================] - 7s 15ms/step - loss: 0.5057 - val_loss: 0.5087- ETA: 0s - l\n",
      "Epoch 23/100\n",
      "500/500 [==============================] - 7s 15ms/step - loss: 0.5028 - val_loss: 0.5122\n",
      "Epoch 24/100\n",
      "500/500 [==============================] - 8s 15ms/step - loss: 0.4948 - val_loss: 0.5043\n",
      "Epoch 25/100\n",
      "500/500 [==============================] - 7s 14ms/step - loss: 0.5002 - val_loss: 0.5207\n",
      "Epoch 26/100\n",
      "500/500 [==============================] - 7s 15ms/step - loss: 0.5271 - val_loss: 0.5030\n",
      "Epoch 27/100\n",
      "500/500 [==============================] - 7s 15ms/step - loss: 0.5082 - val_loss: 0.5057\n",
      "Epoch 28/100\n",
      "500/500 [==============================] - 7s 15ms/step - loss: 0.5009 - val_loss: 0.5061\n",
      "Epoch 29/100\n",
      "500/500 [==============================] - 7s 15ms/step - loss: 0.4951 - val_loss: 0.5040\n",
      "Epoch 30/100\n",
      "500/500 [==============================] - 7s 15ms/step - loss: 0.4973 - val_loss: 0.5216\n",
      "Epoch 31/100\n",
      "500/500 [==============================] - 7s 15ms/step - loss: 0.5262 - val_loss: 0.5012\n",
      "Epoch 32/100\n",
      "500/500 [==============================] - 7s 14ms/step - loss: 0.5080 - val_loss: 0.5027\n",
      "Epoch 33/100\n",
      "500/500 [==============================] - 7s 15ms/step - loss: 0.5004 - val_loss: 0.5040\n",
      "Epoch 34/100\n",
      "500/500 [==============================] - 7s 15ms/step - loss: 0.4960 - val_loss: 0.5023\n",
      "Epoch 35/100\n",
      "500/500 [==============================] - 7s 14ms/step - loss: 0.4945 - val_loss: 0.5148- ETA\n",
      "Epoch 36/100\n",
      "500/500 [==============================] - 7s 15ms/step - loss: 0.5246 - val_loss: 0.4999\n",
      "Epoch 37/100\n",
      "500/500 [==============================] - 7s 15ms/step - loss: 0.5095 - val_loss: 0.5020\n",
      "Epoch 38/100\n",
      "500/500 [==============================] - 7s 14ms/step - loss: 0.4996 - val_loss: 0.5025\n",
      "Epoch 39/100\n",
      "500/500 [==============================] - 7s 14ms/step - loss: 0.4962 - val_loss: 0.5023 \n",
      "Epoch 40/100\n",
      "500/500 [==============================] - 7s 14ms/step - loss: 0.4929 - val_loss: 0.5158\n",
      "Epoch 41/100\n",
      "500/500 [==============================] - 7s 14ms/step - loss: 0.5227 - val_loss: 0.4997\n",
      "Epoch 42/100\n",
      "500/500 [==============================] - 7s 15ms/step - loss: 0.5099 - val_loss: 0.5002\n",
      "Epoch 43/100\n",
      "500/500 [==============================] - 7s 15ms/step - loss: 0.4998 - val_loss: 0.5011\n",
      "Epoch 44/100\n",
      "500/500 [==============================] - 7s 14ms/step - loss: 0.4972 - val_loss: 0.5034\n",
      "Epoch 45/100\n",
      "500/500 [==============================] - 7s 15ms/step - loss: 0.4920 - val_loss: 0.5062\n",
      "Epoch 46/100\n",
      "500/500 [==============================] - 7s 14ms/step - loss: 0.5163 - val_loss: 0.5069 loss: 0.538 - ETA: 2s - - ETA: 1s - los - ETA: 1s  - ETA: 0s - loss: 0\n",
      "Epoch 47/100\n",
      "500/500 [==============================] - 7s 15ms/step - loss: 0.5137 - val_loss: 0.4993\n",
      "Epoch 48/100\n",
      "500/500 [==============================] - 7s 15ms/step - loss: 0.4998 - val_loss: 0.5002\n",
      "Epoch 49/100\n",
      "500/500 [==============================] - 7s 15ms/step - loss: 0.4971 - val_loss: 0.5010\n",
      "Epoch 50/100\n",
      "500/500 [==============================] - 7s 15ms/step - loss: 0.4915 - val_loss: 0.5028\n",
      "Epoch 51/100\n",
      "500/500 [==============================] - 7s 15ms/step - loss: 0.5106 - val_loss: 0.5174\n",
      "Epoch 52/100\n",
      "500/500 [==============================] - 7s 14ms/step - loss: 0.5172 - val_loss: 0.4980\n",
      "Epoch 53/100\n",
      "500/500 [==============================] - 7s 15ms/step - loss: 0.5007 - val_loss: 0.5000 loss:  - ETA: 1s - ETA: 0s - los\n",
      "Epoch 54/100\n",
      "500/500 [==============================] - 7s 15ms/step - loss: 0.4976 - val_loss: 0.4993\n",
      "Epoch 55/100\n",
      "500/500 [==============================] - 7s 14ms/step - loss: 0.4914 - val_loss: 0.4998\n",
      "Epoch 56/100\n",
      "500/500 [==============================] - 7s 14ms/step - loss: 0.5037 - val_loss: 0.5299\n",
      "Epoch 57/100\n",
      "500/500 [==============================] - 7s 15ms/step - loss: 0.5211 - val_loss: 0.4968\n",
      "Epoch 58/100\n"
     ]
    },
    {
     "name": "stdout",
     "output_type": "stream",
     "text": [
      "500/500 [==============================] - 7s 14ms/step - loss: 0.5020 - val_loss: 0.4981\n",
      "Epoch 59/100\n",
      "500/500 [==============================] - 7s 15ms/step - loss: 0.4980 - val_loss: 0.4996\n",
      "Epoch 60/100\n",
      "500/500 [==============================] - 7s 14ms/step - loss: 0.4913 - val_loss: 0.4989\n",
      "Epoch 61/100\n",
      "500/500 [==============================] - 7s 15ms/step - loss: 0.4985 - val_loss: 0.5407\n",
      "Epoch 62/100\n",
      "500/500 [==============================] - 7s 15ms/step - loss: 0.5230 - val_loss: 0.4968\n",
      "Epoch 63/100\n",
      "500/500 [==============================] - 7s 15ms/step - loss: 0.5040 - val_loss: 0.49861s - ETA: 0s - los\n",
      "Epoch 64/100\n",
      "500/500 [==============================] - 8s 15ms/step - loss: 0.4977 - val_loss: 0.4986\n",
      "Epoch 65/100\n",
      "500/500 [==============================] - 7s 15ms/step - loss: 0.4912 - val_loss: 0.4982\n",
      "Epoch 66/100\n",
      "500/500 [==============================] - 7s 15ms/step - loss: 0.4959 - val_loss: 0.5421\n",
      "Epoch 67/100\n",
      "500/500 [==============================] - 7s 15ms/step - loss: 0.5231 - val_loss: 0.4962\n",
      "Epoch 68/100\n",
      "500/500 [==============================] - 8s 15ms/step - loss: 0.5055 - val_loss: 0.4971\n",
      "Epoch 69/100\n",
      "500/500 [==============================] - 7s 15ms/step - loss: 0.4973 - val_loss: 0.4983\n",
      "Epoch 70/100\n",
      "500/500 [==============================] - 7s 15ms/step - loss: 0.4923 - val_loss: 0.4980\n",
      "Epoch 71/100\n",
      "500/500 [==============================] - 7s 14ms/step - loss: 0.4927 - val_loss: 0.5249\n",
      "Epoch 72/100\n",
      "500/500 [==============================] - 7s 14ms/step - loss: 0.5225 - val_loss: 0.4953\n",
      "Epoch 73/100\n",
      "500/500 [==============================] - 8s 15ms/step - loss: 0.5065 - val_loss: 0.4965\n",
      "Epoch 74/100\n",
      "500/500 [==============================] - 8s 15ms/step - loss: 0.4980 - val_loss: 0.4974s: 0.\n",
      "Epoch 75/100\n",
      "500/500 [==============================] - 8s 16ms/step - loss: 0.4929 - val_loss: 0.4975\n",
      "Epoch 76/100\n",
      "500/500 [==============================] - 7s 15ms/step - loss: 0.4917 - val_loss: 0.5166\n",
      "Epoch 77/100\n",
      "500/500 [==============================] - 7s 15ms/step - loss: 0.5208 - val_loss: 0.4950 ET\n",
      "Epoch 78/100\n",
      "500/500 [==============================] - 7s 15ms/step - loss: 0.5073 - val_loss: 0.4962\n",
      "Epoch 79/100\n",
      "500/500 [==============================] - 7s 15ms/step - loss: 0.4969 - val_loss: 0.4975\n",
      "Epoch 80/100\n",
      "500/500 [==============================] - 7s 15ms/step - loss: 0.4942 - val_loss: 0.4977\n",
      "Epoch 81/100\n",
      "500/500 [==============================] - 7s 15ms/step - loss: 0.4899 - val_loss: 0.5122\n",
      "Epoch 82/100\n",
      "500/500 [==============================] - 7s 15ms/step - loss: 0.5177 - val_loss: 0.5038\n",
      "Epoch 83/100\n",
      "500/500 [==============================] - 8s 15ms/step - loss: 0.5092 - val_loss: 0.4963\n",
      "Epoch 84/100\n",
      "500/500 [==============================] - 7s 15ms/step - loss: 0.4972 - val_loss: 0.4972\n",
      "Epoch 85/100\n",
      "500/500 [==============================] - 8s 16ms/step - loss: 0.4947 - val_loss: 0.4981\n",
      "Epoch 86/100\n",
      "500/500 [==============================] - 8s 15ms/step - loss: 0.4901 - val_loss: 0.4993\n",
      "Epoch 87/100\n",
      "500/500 [==============================] - 8s 15ms/step - loss: 0.5117 - val_loss: 0.5109\n",
      "Epoch 88/100\n",
      "500/500 [==============================] - 8s 15ms/step - loss: 0.5135 - val_loss: 0.4957\n",
      "Epoch 89/100\n",
      "500/500 [==============================] - 7s 15ms/step - loss: 0.4975 - val_loss: 0.4972- ETA: 0s - loss: 0.4\n",
      "Epoch 90/100\n",
      "500/500 [==============================] - 7s 15ms/step - loss: 0.4970 - val_loss: 0.4969\n",
      "Epoch 91/100\n",
      "500/500 [==============================] - 7s 15ms/step - loss: 0.4882 - val_loss: 0.4970\n",
      "Epoch 92/100\n",
      "500/500 [==============================] - 7s 14ms/step - loss: 0.5061 - val_loss: 0.5284\n",
      "Epoch 93/100\n",
      "500/500 [==============================] - 8s 15ms/step - loss: 0.5174 - val_loss: 0.4948\n",
      "Epoch 94/100\n",
      "500/500 [==============================] - 8s 15ms/step - loss: 0.5000 - val_loss: 0.4965\n",
      "Epoch 95/100\n",
      "500/500 [==============================] - 7s 15ms/step - loss: 0.4960 - val_loss: 0.4973\n",
      "Epoch 96/100\n",
      "500/500 [==============================] - 8s 15ms/step - loss: 0.4889 - val_loss: 0.4971 - loss: 0.48\n",
      "Epoch 97/100\n",
      "500/500 [==============================] - 7s 15ms/step - loss: 0.4989 - val_loss: 0.5404\n",
      "Epoch 98/100\n",
      "500/500 [==============================] - 7s 15ms/step - loss: 0.5213 - val_loss: 0.4943\n",
      "Epoch 99/100\n",
      "500/500 [==============================] - 7s 15ms/step - loss: 0.5009 - val_loss: 0.4961\n",
      "Epoch 100/100\n",
      "500/500 [==============================] - 8s 16ms/step - loss: 0.4963 - val_loss: 0.4973\n"
     ]
    }
   ],
   "source": [
    "EPOCHS = 100 # 10\n",
    "STEPS_PER_EPOCH = 500 # 200\n",
    "VALIDATION_STEPS = 100 # 50\n",
    "single_step_model_1_history = single_step_model_1.fit(train_data_single, epochs=EPOCHS, steps_per_epoch=STEPS_PER_EPOCH,\n",
    "                                            validation_data=val_data_single, validation_steps=VALIDATION_STEPS)\n",
    "single_step_model_2_history = single_step_model_2.fit(train_data_single, epochs=EPOCHS, steps_per_epoch=STEPS_PER_EPOCH,\n",
    "                                            validation_data=val_data_single, validation_steps=VALIDATION_STEPS)"
   ]
  },
  {
   "cell_type": "code",
   "execution_count": 145,
   "metadata": {},
   "outputs": [],
   "source": [
    "def plot_train_history(history, title):\n",
    "    loss = history.history['loss']\n",
    "    val_loss = history.history['val_loss']\n",
    "    \n",
    "    epochs = range(len(loss))\n",
    "    \n",
    "    plt.figure()\n",
    "    \n",
    "    plt.plot(epochs, loss, 'b', label='Training Loss')\n",
    "    plt.plot(epochs, val_loss, 'r', label='Validation Loss')\n",
    "    plt.xlabel('Epoch')\n",
    "    plt.title(title)\n",
    "    plt.legend()\n",
    "    plt.show()"
   ]
  },
  {
   "cell_type": "code",
   "execution_count": 146,
   "metadata": {},
   "outputs": [
    {
     "data": {
      "image/png": "[encoded data removed]",
      "text/plain": [
       "<Figure size 864x360 with 1 Axes>"
      ]
     },
     "metadata": {
      "needs_background": "light"
     },
     "output_type": "display_data"
    },
    {
     "data": {
      "image/png": "[encoded data removed]",
      "text/plain": [
       "<Figure size 864x360 with 1 Axes>"
      ]
     },
     "metadata": {
      "needs_background": "light"
     },
     "output_type": "display_data"
    }
   ],
   "source": [
    "plot_train_history(single_step_model_1_history, 'Single Step Model 1 Training and Validation Loss')\n",
    "plot_train_history(single_step_model_2_history, 'Single Step Model 2 Training and Validation Loss')"
   ]
  },
  {
   "cell_type": "markdown",
   "metadata": {},
   "source": [
    "## Multi Step Model\n",
    "\n",
    "In a single step setup, the model learns to predict a single point in the future based on history provided"
   ]
  },
  {
   "cell_type": "code",
   "execution_count": null,
   "metadata": {},
   "outputs": [],
   "source": []
  }
 ],
 "metadata": {
  "kernelspec": {
   "display_name": "Python 3.7.4 64-bit",
   "language": "python",
   "name": "python37464bitc098c6a12a7344239f77ab5a0cefe764"
  },
  "language_info": {
   "codemirror_mode": {
    "name": "ipython",
    "version": 3
   },
   "file_extension": ".py",
   "mimetype": "text/x-python",
   "name": "python",
   "nbconvert_exporter": "python",
   "pygments_lexer": "ipython3",
   "version": "3.7.4"
  }
 },
 "nbformat": 4,
 "nbformat_minor": 4
}
