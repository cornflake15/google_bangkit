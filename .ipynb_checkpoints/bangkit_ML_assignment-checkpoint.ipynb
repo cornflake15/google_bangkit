{
 "cells": [
  {
   "cell_type": "markdown",
   "metadata": {
    "colab_type": "text",
    "id": "0gCHQZ4M2SiH"
   },
   "source": [
    "# Denpasar Weather Forecasting with TensorFlow"
   ]
  },
  {
   "cell_type": "code",
   "execution_count": 2,
   "metadata": {
    "colab": {},
    "colab_type": "code",
    "id": "2My_z7dt2SiI"
   },
   "outputs": [],
   "source": [
    "from __future__ import absolute_import, division, print_function, unicode_literals\n",
    "import tensorflow as tf\n",
    "\n",
    "import matplotlib as mpl\n",
    "import matplotlib.pyplot as plt\n",
    "import numpy as np\n",
    "import os\n",
    "import pandas as pd\n",
    "import io\n",
    "\n",
    "mpl.rcParams['figure.figsize'] = (12, 5)\n",
    "mpl.rcParams['axes.grid'] = False"
   ]
  },
  {
   "cell_type": "markdown",
   "metadata": {
    "colab_type": "text",
    "id": "mnznO2k72SiN"
   },
   "source": [
    "## The weather dataset\n",
    "\n",
    "This dataset is collected from https://openweathermaps.org pointed in Denpasar, Bali. The dataset contains hourly weather data from January 1st 1990 until January 7th 2020. Originally there are 32 features, although has been reduced the unnecessary features to  11 features as shown below. You can access this data at https://www.kaggle.com/cornflake15/denpasarbalihistoricalweatherdata"
   ]
  },
  {
   "cell_type": "code",
   "execution_count": 3,
   "metadata": {
    "colab": {
     "base_uri": "https://localhost:8080/",
     "height": 226
    },
    "colab_type": "code",
    "id": "W8RAyMYr2SiO",
    "outputId": "00b0c686-b877-4708-98f4-e10ebfcbe432"
   },
   "outputs": [
    {
     "data": {
      "text/html": [
       "<div>\n",
       "<style scoped>\n",
       "    .dataframe tbody tr th:only-of-type {\n",
       "        vertical-align: middle;\n",
       "    }\n",
       "\n",
       "    .dataframe tbody tr th {\n",
       "        vertical-align: top;\n",
       "    }\n",
       "\n",
       "    .dataframe thead th {\n",
       "        text-align: right;\n",
       "    }\n",
       "</style>\n",
       "<table border=\"1\" class=\"dataframe\">\n",
       "  <thead>\n",
       "    <tr style=\"text-align: right;\">\n",
       "      <th></th>\n",
       "      <th>temp</th>\n",
       "      <th>temp_min</th>\n",
       "      <th>temp_max</th>\n",
       "      <th>pressure</th>\n",
       "      <th>humidity</th>\n",
       "      <th>wind_speed</th>\n",
       "      <th>wind_deg</th>\n",
       "      <th>clouds_all</th>\n",
       "      <th>weather_main</th>\n",
       "      <th>weather_description</th>\n",
       "    </tr>\n",
       "    <tr>\n",
       "      <th>dt_iso</th>\n",
       "      <th></th>\n",
       "      <th></th>\n",
       "      <th></th>\n",
       "      <th></th>\n",
       "      <th></th>\n",
       "      <th></th>\n",
       "      <th></th>\n",
       "      <th></th>\n",
       "      <th></th>\n",
       "      <th></th>\n",
       "    </tr>\n",
       "  </thead>\n",
       "  <tbody>\n",
       "    <tr>\n",
       "      <th>1990-01-01 00:00:00</th>\n",
       "      <td>25.82</td>\n",
       "      <td>25.82</td>\n",
       "      <td>25.82</td>\n",
       "      <td>1010.0</td>\n",
       "      <td>86</td>\n",
       "      <td>1.36</td>\n",
       "      <td>225</td>\n",
       "      <td>98</td>\n",
       "      <td>Rain</td>\n",
       "      <td>light rain</td>\n",
       "    </tr>\n",
       "    <tr>\n",
       "      <th>1990-01-01 01:00:00</th>\n",
       "      <td>26.20</td>\n",
       "      <td>26.20</td>\n",
       "      <td>26.20</td>\n",
       "      <td>1011.0</td>\n",
       "      <td>84</td>\n",
       "      <td>2.09</td>\n",
       "      <td>247</td>\n",
       "      <td>91</td>\n",
       "      <td>Rain</td>\n",
       "      <td>light rain</td>\n",
       "    </tr>\n",
       "    <tr>\n",
       "      <th>1990-01-01 02:00:00</th>\n",
       "      <td>26.45</td>\n",
       "      <td>26.45</td>\n",
       "      <td>26.45</td>\n",
       "      <td>1011.0</td>\n",
       "      <td>84</td>\n",
       "      <td>2.44</td>\n",
       "      <td>262</td>\n",
       "      <td>94</td>\n",
       "      <td>Rain</td>\n",
       "      <td>light rain</td>\n",
       "    </tr>\n",
       "    <tr>\n",
       "      <th>1990-01-01 03:00:00</th>\n",
       "      <td>26.80</td>\n",
       "      <td>26.80</td>\n",
       "      <td>26.80</td>\n",
       "      <td>1011.0</td>\n",
       "      <td>82</td>\n",
       "      <td>2.29</td>\n",
       "      <td>271</td>\n",
       "      <td>94</td>\n",
       "      <td>Rain</td>\n",
       "      <td>light rain</td>\n",
       "    </tr>\n",
       "    <tr>\n",
       "      <th>1990-01-01 04:00:00</th>\n",
       "      <td>27.04</td>\n",
       "      <td>27.04</td>\n",
       "      <td>27.04</td>\n",
       "      <td>1010.0</td>\n",
       "      <td>82</td>\n",
       "      <td>1.71</td>\n",
       "      <td>274</td>\n",
       "      <td>76</td>\n",
       "      <td>Clouds</td>\n",
       "      <td>broken clouds</td>\n",
       "    </tr>\n",
       "  </tbody>\n",
       "</table>\n",
       "</div>"
      ],
      "text/plain": [
       "                      temp  temp_min  temp_max  pressure  humidity  \\\n",
       "dt_iso                                                               \n",
       "1990-01-01 00:00:00  25.82     25.82     25.82    1010.0        86   \n",
       "1990-01-01 01:00:00  26.20     26.20     26.20    1011.0        84   \n",
       "1990-01-01 02:00:00  26.45     26.45     26.45    1011.0        84   \n",
       "1990-01-01 03:00:00  26.80     26.80     26.80    1011.0        82   \n",
       "1990-01-01 04:00:00  27.04     27.04     27.04    1010.0        82   \n",
       "\n",
       "                     wind_speed  wind_deg  clouds_all weather_main  \\\n",
       "dt_iso                                                               \n",
       "1990-01-01 00:00:00        1.36       225          98         Rain   \n",
       "1990-01-01 01:00:00        2.09       247          91         Rain   \n",
       "1990-01-01 02:00:00        2.44       262          94         Rain   \n",
       "1990-01-01 03:00:00        2.29       271          94         Rain   \n",
       "1990-01-01 04:00:00        1.71       274          76       Clouds   \n",
       "\n",
       "                    weather_description  \n",
       "dt_iso                                   \n",
       "1990-01-01 00:00:00          light rain  \n",
       "1990-01-01 01:00:00          light rain  \n",
       "1990-01-01 02:00:00          light rain  \n",
       "1990-01-01 03:00:00          light rain  \n",
       "1990-01-01 04:00:00       broken clouds  "
      ]
     },
     "execution_count": 3,
     "metadata": {},
     "output_type": "execute_result"
    }
   ],
   "source": [
    "usecols = ['dt_iso', 'temp', 'temp_min', 'temp_max', 'pressure', 'humidity', 'wind_speed', 'wind_deg', \n",
    "           'clouds_all', 'weather_main', 'weather_description']\n",
    "df = pd.read_csv('openweatherdata-denpasar-1990-2020v0.1.csv', parse_dates=True, index_col='dt_iso', usecols=usecols)\n",
    "df.head()"
   ]
  },
  {
   "cell_type": "code",
   "execution_count": 4,
   "metadata": {
    "colab": {
     "base_uri": "https://localhost:8080/",
     "height": 33
    },
    "colab_type": "code",
    "id": "iNWHmFhq2SiS",
    "outputId": "2a3a5c10-32f3-41c2-c038-3f038d3ceec5",
    "scrolled": true
   },
   "outputs": [
    {
     "data": {
      "text/plain": [
       "(264924, 10)"
      ]
     },
     "execution_count": 4,
     "metadata": {},
     "output_type": "execute_result"
    }
   ],
   "source": [
    "df.shape"
   ]
  },
  {
   "cell_type": "markdown",
   "metadata": {
    "colab_type": "text",
    "id": "SxraGP5-2SiZ"
   },
   "source": [
    "**Data Split Function**"
   ]
  },
  {
   "cell_type": "code",
   "execution_count": 5,
   "metadata": {
    "colab": {},
    "colab_type": "code",
    "id": "OTBmfTx12SiZ"
   },
   "outputs": [],
   "source": [
    "# Split the data by percentage\n",
    "def num_data_train(percentage, data_length):\n",
    "    num_data = percentage / 100 * data_length\n",
    "    return int(num_data)"
   ]
  },
  {
   "cell_type": "markdown",
   "metadata": {},
   "source": [
    "From this section, the code is adapted from **Time Series Tensorflow Tutorial**.\n",
    "\n",
    "Source: https://www.tensorflow.org/tutorials/structured_data/time_series"
   ]
  },
  {
   "cell_type": "markdown",
   "metadata": {
    "colab_type": "text",
    "id": "l-33Vr_O2Sic"
   },
   "source": [
    "## Forecast a univariate time series\n",
    "\n",
    "In this part, we tested how ML method works at time series data. We conducted simple forecasting on single feature (temperature)."
   ]
  },
  {
   "cell_type": "markdown",
   "metadata": {
    "colab_type": "text",
    "id": "0COMSi0n2Sic"
   },
   "source": [
    "**Split the data**"
   ]
  },
  {
   "cell_type": "code",
   "execution_count": 6,
   "metadata": {
    "colab": {
     "base_uri": "https://localhost:8080/",
     "height": 33
    },
    "colab_type": "code",
    "id": "ccu0QW822Sid",
    "outputId": "43b90ded-e7f3-4294-a4ce-5eeb00d8147b"
   },
   "outputs": [
    {
     "name": "stdout",
     "output_type": "stream",
     "text": [
      "Length of Data Train: 185446\n"
     ]
    }
   ],
   "source": [
    "TRAIN_SPLIT = num_data_train(70, df.shape[0]) # Split 70% of the data for training\n",
    "tf.random.set_seed(13) # Setting seed to ensure reproducibility\n",
    "print('Length of Data Train: {}'.format(TRAIN_SPLIT))"
   ]
  },
  {
   "cell_type": "code",
   "execution_count": 8,
   "metadata": {
    "colab": {
     "base_uri": "https://localhost:8080/",
     "height": 134
    },
    "colab_type": "code",
    "id": "fQn3aqHY2Sif",
    "outputId": "f9b72c5e-109a-4ba6-d8fb-d3c09447051b"
   },
   "outputs": [
    {
     "data": {
      "text/plain": [
       "dt_iso\n",
       "2020-01-07 19:00:00    27.0\n",
       "2020-01-07 20:00:00    27.0\n",
       "2020-01-07 21:00:00    28.0\n",
       "2020-01-07 22:00:00    28.0\n",
       "2020-01-07 23:00:00    28.0\n",
       "Name: temp, dtype: float64"
      ]
     },
     "execution_count": 8,
     "metadata": {},
     "output_type": "execute_result"
    }
   ],
   "source": [
    "# Train a model using a single feature (temperature)\n",
    "dt_temp = df['temp']\n",
    "dt_temp.tail()"
   ]
  },
  {
   "cell_type": "code",
   "execution_count": 10,
   "metadata": {
    "colab": {
     "base_uri": "https://localhost:8080/",
     "height": 183
    },
    "colab_type": "code",
    "id": "Z3NFhOfu2Sii",
    "outputId": "1f12fa41-a826-4b35-cf2b-1e875160f61d"
   },
   "outputs": [
    {
     "data": {
      "image/png": "[encoded data removed]",
      "text/plain": [
       "<Figure size 864x360 with 1 Axes>"
      ]
     },
     "metadata": {
      "needs_background": "light"
     },
     "output_type": "display_data"
    }
   ],
   "source": [
    "dt_temp.plot(subplots=True)\n",
    "plt.xlabel('Year')\n",
    "plt.ylabel('Temperature (C)')\n",
    "plt.show()"
   ]
  },
  {
   "cell_type": "code",
   "execution_count": 13,
   "metadata": {
    "colab": {
     "base_uri": "https://localhost:8080/",
     "height": 33
    },
    "colab_type": "code",
    "id": "JB1LYeBE2Sil",
    "outputId": "39fd9332-79f1-4042-ef19-a5491d01e333"
   },
   "outputs": [
    {
     "name": "stdout",
     "output_type": "stream",
     "text": [
      "[25.82 26.2  26.45 26.8  27.04 27.23 27.32 27.29 27.34 27.23]\n"
     ]
    }
   ],
   "source": [
    "# Convert the dataframe into numpy array\n",
    "array_temp = dt_temp.values\n",
    "print(array_temp[:10]) # Print 10 elements for checking"
   ]
  },
  {
   "cell_type": "code",
   "execution_count": 16,
   "metadata": {
    "colab": {
     "base_uri": "https://localhost:8080/",
     "height": 67
    },
    "colab_type": "code",
    "id": "P_0GT2w_2Sio",
    "outputId": "df743f8a-8581-4386-b3b6-69783f48e8d3",
    "scrolled": true
   },
   "outputs": [
    {
     "name": "stdout",
     "output_type": "stream",
     "text": [
      "Training Data Mean: 27.1836268239811\n",
      "\n",
      "Training Data Std.Dev: 1.9980058874922433\n"
     ]
    }
   ],
   "source": [
    "# Scaling the features\n",
    "array_temp_mean = array_temp[:TRAIN_SPLIT].mean()\n",
    "array_temp_std = array_temp[:TRAIN_SPLIT].std()\n",
    "print('Training Data Mean: {}'.format(array_temp_mean))\n",
    "print('\\nTraining Data Std.Dev: {}'.format(array_temp_std))"
   ]
  },
  {
   "cell_type": "code",
   "execution_count": 17,
   "metadata": {
    "colab": {
     "base_uri": "https://localhost:8080/",
     "height": 50
    },
    "colab_type": "code",
    "id": "lztUr6dF2Sir",
    "outputId": "f943cefe-da0e-460b-aa61-db713607fce3"
   },
   "outputs": [
    {
     "name": "stdout",
     "output_type": "stream",
     "text": [
      "[-0.6824939  -0.49230427 -0.36717951 ...  0.40859398  0.40859398\n",
      "  0.40859398]\n"
     ]
    }
   ],
   "source": [
    "# Standardize the data\n",
    "array_temp = (array_temp - array_temp_mean) / array_temp_std\n",
    "print(array_temp)"
   ]
  },
  {
   "cell_type": "code",
   "execution_count": 20,
   "metadata": {
    "colab": {},
    "colab_type": "code",
    "id": "fUJASmkp2Si0"
   },
   "outputs": [],
   "source": [
    "# create a function that return the time windows for the model to train on\n",
    "def univariate_data(dataset, start_index, end_index, history_size, target_size):\n",
    "    data = []\n",
    "    labels = []\n",
    "    \n",
    "    start_index = start_index + history_size\n",
    "    if end_index is None:\n",
    "        end_index = len(dataset) - target_size\n",
    "        \n",
    "    for i in range(start_index, end_index):\n",
    "        indices = range(i - history_size, i)\n",
    "        # Reshape data from (history_size,) to (history_size, 1)\n",
    "        data.append(np.reshape(dataset[indices], (history_size, 1)))\n",
    "        labels.append(dataset[i+target_size])\n",
    "        \n",
    "    return np.array(data), np.array(labels)"
   ]
  },
  {
   "cell_type": "markdown",
   "metadata": {
    "colab_type": "text",
    "id": "_5MaNDpU2Si2"
   },
   "source": [
    "In this part, the model will be given the last **`n`** recorded temperature observation, and needs to learn to predict the temperature at the next **`m`** time step."
   ]
  },
  {
   "cell_type": "code",
   "execution_count": 21,
   "metadata": {
    "colab": {
     "base_uri": "https://localhost:8080/",
     "height": 585
    },
    "colab_type": "code",
    "id": "Y-IQr8Eh2Si3",
    "outputId": "ae6736b6-5a2f-4c5d-a6b3-cde2948e9cb8"
   },
   "outputs": [
    {
     "name": "stdout",
     "output_type": "stream",
     "text": [
      "Single window of past history:\n",
      "[[-0.6824939 ]\n",
      " [-0.49230427]\n",
      " [-0.36717951]\n",
      " [-0.19200485]\n",
      " [-0.07188509]\n",
      " [ 0.02320973]\n",
      " [ 0.06825464]\n",
      " [ 0.05323967]\n",
      " [ 0.07826462]\n",
      " [ 0.02320973]\n",
      " [ 0.10829456]\n",
      " [ 0.07325963]\n",
      " [-0.19700984]\n",
      " [-0.44725935]\n",
      " [-0.56237413]\n",
      " [-0.63244399]\n",
      " [-0.63744898]\n",
      " [-0.65246396]\n",
      " [-0.69750887]\n",
      " [-0.8326436 ]\n",
      " [-1.01782824]\n",
      " [-1.0428532 ]\n",
      " [-1.03284321]\n",
      " [-1.07788813]\n",
      " [-1.01782824]\n",
      " [-0.99280329]\n",
      " [-0.96777834]\n",
      " [-0.8326436 ]\n",
      " [-0.85766856]\n",
      " [-0.75256376]]\n",
      "\n",
      " Target temperature to predict:\n",
      "-0.8076186532194914\n"
     ]
    }
   ],
   "source": [
    "# Create the univariate model\n",
    "data_past_history = 30 # number of last recorded data (n)\n",
    "data_future_target = 0 # number of time step (m)\n",
    "\n",
    "x_train, y_train = univariate_data(array_temp, 0, TRAIN_SPLIT, data_past_history, data_future_target)\n",
    "x_val, y_val = univariate_data(array_temp, TRAIN_SPLIT, None, data_past_history, data_future_target)\n",
    "\n",
    "print('Single window of past history:')\n",
    "print(x_train[0])\n",
    "print('\\n Target temperature to predict:')\n",
    "print(y_train[0])"
   ]
  },
  {
   "cell_type": "code",
   "execution_count": 22,
   "metadata": {
    "colab": {},
    "colab_type": "code",
    "id": "GQnhqbD52Si5"
   },
   "outputs": [],
   "source": [
    "def create_time_steps(length):\n",
    "    return list(range(-length, 0))"
   ]
  },
  {
   "cell_type": "code",
   "execution_count": 23,
   "metadata": {
    "colab": {},
    "colab_type": "code",
    "id": "cEVA2r412Si7"
   },
   "outputs": [],
   "source": [
    "def show_plot(plot_data, delta, title):\n",
    "    labels = ['History', 'True Future', 'Model Prediction']\n",
    "    marker = ['.-', 'rx', 'go']\n",
    "    time_steps = create_time_steps(plot_data[0].shape[0])\n",
    "    if delta:\n",
    "        future = delta\n",
    "    else:\n",
    "        future = 0\n",
    "        \n",
    "    plt.title(title)\n",
    "    for i, x in enumerate(plot_data):\n",
    "        if i:\n",
    "            plt.plot(future, plot_data[i], marker[i], markersize=10, label=labels[i])\n",
    "        else:\n",
    "            plt.plot(time_steps, plot_data[i].flatten(), marker[i], label=labels[i])\n",
    "       \n",
    "    plt.legend()\n",
    "    plt.xlim([time_steps[0], (future+5)*2])\n",
    "    plt.xlabel('Time-Step')\n",
    "    return plt"
   ]
  },
  {
   "cell_type": "code",
   "execution_count": 24,
   "metadata": {
    "colab": {
     "base_uri": "https://localhost:8080/",
     "height": 366
    },
    "colab_type": "code",
    "id": "XwHzwJat2Si_",
    "outputId": "207a2067-e8cf-40e8-80e5-ebb270eac053",
    "scrolled": true
   },
   "outputs": [
    {
     "data": {
      "text/plain": [
       "<module 'matplotlib.pyplot' from 'c:\\\\users\\\\rudyh\\\\documents\\\\python_code\\\\lib\\\\site-packages\\\\matplotlib\\\\pyplot.py'>"
      ]
     },
     "execution_count": 24,
     "metadata": {},
     "output_type": "execute_result"
    },
    {
     "data": {
      "image/png": "[encoded data removed]",
      "text/plain": [
       "<Figure size 864x360 with 1 Axes>"
      ]
     },
     "metadata": {
      "needs_background": "light"
     },
     "output_type": "display_data"
    }
   ],
   "source": [
    "show_plot([x_train[0], y_train[0]], 0, 'Test Sample')"
   ]
  },
  {
   "cell_type": "markdown",
   "metadata": {},
   "source": [
    "**We compared two models, first is simple `sequential` model with 2 layers and second is simple `LSTM` model with 1 layer.**"
   ]
  },
  {
   "cell_type": "code",
   "execution_count": 25,
   "metadata": {
    "colab": {
     "base_uri": "https://localhost:8080/",
     "height": 235
    },
    "colab_type": "code",
    "id": "sxF9Cg5h2SjC",
    "outputId": "3bfd630e-8a33-48f1-fb3a-250bc667ebc9"
   },
   "outputs": [
    {
     "name": "stdout",
     "output_type": "stream",
     "text": [
      "Model: \"sequential\"\n",
      "_________________________________________________________________\n",
      "Layer (type)                 Output Shape              Param #   \n",
      "=================================================================\n",
      "dense (Dense)                (None, 30, 16)            32        \n",
      "_________________________________________________________________\n",
      "dense_1 (Dense)              (None, 30, 16)            272       \n",
      "_________________________________________________________________\n",
      "dense_2 (Dense)              (None, 30, 1)             17        \n",
      "=================================================================\n",
      "Total params: 321\n",
      "Trainable params: 321\n",
      "Non-trainable params: 0\n",
      "_________________________________________________________________\n",
      "Model: \"sequential_1\"\n",
      "_________________________________________________________________\n",
      "Layer (type)                 Output Shape              Param #   \n",
      "=================================================================\n",
      "lstm (LSTM)                  (None, 8)                 320       \n",
      "_________________________________________________________________\n",
      "dense_3 (Dense)              (None, 1)                 9         \n",
      "=================================================================\n",
      "Total params: 329\n",
      "Trainable params: 329\n",
      "Non-trainable params: 0\n",
      "_________________________________________________________________\n"
     ]
    }
   ],
   "source": [
    "from tensorflow.keras import layers\n",
    "tf.keras.backend.clear_session()  # For easy reset of notebook state.\n",
    "\n",
    "# Normal Sequential model\n",
    "model_1 = tf.keras.models.Sequential([\n",
    "    tf.keras.layers.Dense(16, input_shape=x_train.shape[-2:]), \n",
    "    tf.keras.layers.Dense(16, activation='relu'),\n",
    "    tf.keras.layers.Dense(1)\n",
    "])\n",
    "\n",
    "# Compare with simple LSTM Model, according to several sources LSTM is suitable for modeling time series data\n",
    "model_2 = tf.keras.models.Sequential(\n",
    "    [tf.keras.layers.LSTM(8, input_shape=x_train.shape[-2:]), tf.keras.layers.Dense(1)]\n",
    ")\n",
    "model_1.summary()\n",
    "model_2.summary()"
   ]
  },
  {
   "cell_type": "code",
   "execution_count": 26,
   "metadata": {
    "colab": {},
    "colab_type": "code",
    "id": "O_cC9JHD2SjE"
   },
   "outputs": [],
   "source": [
    "model_1.compile(optimizer='adam', loss='mae')\n",
    "model_2.compile(optimizer='adam', loss='mae')"
   ]
  },
  {
   "cell_type": "markdown",
   "metadata": {
    "colab_type": "text",
    "id": "q8Kl74932SjG"
   },
   "source": [
    "**Further reading:**\n",
    "    \n",
    "    1. https://stats.stackexchange.com/questions/153531/what-is-batch-size-in-neural-network\n",
    "    2. https://stackoverflow.com/questions/45943675/meaning-of-validation-steps-in-keras-sequential-fit-generator-parameter-list/45944225\n",
    "    3. https://stats.stackexchange.com/questions/181/how-to-choose-the-number-of-hidden-layers-and-nodes-in-a-feedforward-neural-netw"
   ]
  },
  {
   "cell_type": "code",
   "execution_count": 28,
   "metadata": {
    "colab": {},
    "colab_type": "code",
    "id": "igV4k_q12SjG"
   },
   "outputs": [],
   "source": [
    "BATCH_SIZE = 256\n",
    "BUFFER_SIZE = 10000\n",
    "\n",
    "datatrain = tf.data.Dataset.from_tensor_slices((x_train, y_train))\n",
    "datatrain = datatrain.cache().shuffle(BUFFER_SIZE).batch(BATCH_SIZE).repeat()\n",
    "\n",
    "dataval = tf.data.Dataset.from_tensor_slices((x_val, y_val))\n",
    "dataval = dataval.batch(BATCH_SIZE).repeat()"
   ]
  },
  {
   "cell_type": "code",
   "execution_count": 29,
   "metadata": {
    "colab": {},
    "colab_type": "code",
    "id": "BU4YSez-2SjK",
    "outputId": "174f7156-227e-4842-e077-61d7e41ce536"
   },
   "outputs": [
    {
     "name": "stdout",
     "output_type": "stream",
     "text": [
      "Train for 200 steps, validate for 50 steps\n",
      "Epoch 1/10\n",
      "200/200 [==============================] - 2s 8ms/step - loss: 0.6015 - val_loss: 0.7122\n",
      "Epoch 2/10\n",
      "200/200 [==============================] - 1s 4ms/step - loss: 0.8093 - val_loss: 0.7014\n",
      "Epoch 3/10\n",
      "200/200 [==============================] - 1s 4ms/step - loss: 0.7982 - val_loss: 0.7006\n",
      "Epoch 4/10\n",
      "200/200 [==============================] - 1s 5ms/step - loss: 0.6210 - val_loss: 0.7489\n",
      "Epoch 5/10\n",
      "200/200 [==============================] - 1s 4ms/step - loss: 0.7528 - val_loss: 0.7064\n",
      "Epoch 6/10\n",
      "200/200 [==============================] - 1s 4ms/step - loss: 0.8003 - val_loss: 0.7030\n",
      "Epoch 7/10\n",
      "200/200 [==============================] - 1s 4ms/step - loss: 0.7804 - val_loss: 0.7043\n",
      "Epoch 8/10\n",
      "200/200 [==============================] - 1s 5ms/step - loss: 0.5841 - val_loss: 0.7250\n",
      "Epoch 9/10\n",
      "200/200 [==============================] - 1s 5ms/step - loss: 0.8101 - val_loss: 0.7049\n",
      "Epoch 10/10\n",
      "200/200 [==============================] - 1s 5ms/step - loss: 0.7885 - val_loss: 0.7014\n",
      "Train for 200 steps, validate for 50 steps\n",
      "Epoch 1/10\n",
      "200/200 [==============================] - 5s 26ms/step - loss: 0.5789 - val_loss: 0.5274\n",
      "Epoch 2/10\n",
      "200/200 [==============================] - 4s 19ms/step - loss: 0.5582 - val_loss: 0.2905\n",
      "Epoch 3/10\n",
      "200/200 [==============================] - 4s 19ms/step - loss: 0.3615 - val_loss: 0.2192: 0s - loss\n",
      "Epoch 4/10\n",
      "200/200 [==============================] - 4s 19ms/step - loss: 0.2190 - val_loss: 0.2251\n",
      "Epoch 5/10\n",
      "200/200 [==============================] - 4s 20ms/step - loss: 0.4441 - val_loss: 0.2136\n",
      "Epoch 6/10\n",
      "200/200 [==============================] - 4s 18ms/step - loss: 0.3912 - val_loss: 0.2134\n",
      "Epoch 7/10\n",
      "200/200 [==============================] - 4s 20ms/step - loss: 0.2643 - val_loss: 0.2048\n",
      "Epoch 8/10\n",
      "200/200 [==============================] - 4s 19ms/step - loss: 0.2657 - val_loss: 0.2135\n",
      "Epoch 9/10\n",
      "200/200 [==============================] - 4s 18ms/step - loss: 0.4398 - val_loss: 0.2137\n",
      "Epoch 10/10\n",
      "200/200 [==============================] - 3s 17ms/step - loss: 0.3459 - val_loss: 0.2060\n"
     ]
    }
   ],
   "source": [
    "EPOCHS = 10\n",
    "STEPS_PER_EPOCH = 200 # number of time steps\n",
    "VALIDATION_STEPS = 50\n",
    "\n",
    "# Train the model\n",
    "model_1_history = model_1.fit(datatrain, epochs=EPOCHS, steps_per_epoch=STEPS_PER_EPOCH, validation_data=dataval, \n",
    "                      validation_steps=VALIDATION_STEPS)\n",
    "model_2_history = model_2.fit(datatrain, epochs=EPOCHS, steps_per_epoch=STEPS_PER_EPOCH, validation_data=dataval, \n",
    "                      validation_steps=VALIDATION_STEPS)"
   ]
  },
  {
   "cell_type": "code",
   "execution_count": 30,
   "metadata": {
    "colab": {},
    "colab_type": "code",
    "id": "h9LtCbEP2SjM"
   },
   "outputs": [],
   "source": [
    "def plot_train_history(history, title):\n",
    "    loss = history.history['loss']\n",
    "    val_loss = history.history['val_loss']\n",
    "    \n",
    "    epochs = range(len(loss))\n",
    "    \n",
    "    plt.figure()\n",
    "    \n",
    "    plt.plot(epochs, loss, 'b', label='Training Loss')\n",
    "    plt.plot(epochs, val_loss, 'r', label='Validation Loss')\n",
    "    plt.title(title)\n",
    "    plt.legend()\n",
    "    \n",
    "    plt.show()"
   ]
  },
  {
   "cell_type": "code",
   "execution_count": 31,
   "metadata": {
    "colab": {},
    "colab_type": "code",
    "id": "dU8I3rRR2SjO",
    "outputId": "e093e82e-e07c-4d0f-f246-88971452d987"
   },
   "outputs": [
    {
     "data": {
      "image/png": "[encoded data removed]",
      "text/plain": [
       "<Figure size 864x360 with 1 Axes>"
      ]
     },
     "metadata": {
      "needs_background": "light"
     },
     "output_type": "display_data"
    },
    {
     "data": {
      "image/png": "[encoded data removed]",
      "text/plain": [
       "<Figure size 864x360 with 1 Axes>"
      ]
     },
     "metadata": {
      "needs_background": "light"
     },
     "output_type": "display_data"
    }
   ],
   "source": [
    "plot_train_history(model_1_history, 'First Model Training and Validation Loss')\n",
    "plot_train_history(model_2_history, 'Second Model Training and Validation Loss')"
   ]
  },
  {
   "cell_type": "markdown",
   "metadata": {
    "colab_type": "text",
    "id": "NsnSC-_r2SjT"
   },
   "source": [
    "**The graph above indicates that the model performance was not really good because we only use single feature (temperature)**\n",
    "First model is not really clear whether it is overfit or underfit, but the second model clealy underfit. Second model need hyperparameter tuning or because it used only single feature.\n",
    "\n",
    "In the next section we will use multi-feature/multivariate forecasting."
   ]
  },
  {
   "cell_type": "markdown",
   "metadata": {
    "colab_type": "text",
    "id": "mD1z-0FB2SjT"
   },
   "source": [
    "Further readings:\n",
    "    1. https://developers.google.com/machine-learning/crash-course/descending-into-ml/training-and-loss\n",
    "    2. https://stackoverflow.com/questions/48226086/training-loss-and-validation-loss-in-deep-learning"
   ]
  },
  {
   "cell_type": "markdown",
   "metadata": {
    "colab_type": "text",
    "id": "mT0-OBRk2SjU"
   },
   "source": [
    "# Multivariate Forecasting"
   ]
  },
  {
   "cell_type": "markdown",
   "metadata": {
    "colab": {},
    "colab_type": "code",
    "id": "IN5lJopP2SjU"
   },
   "source": [
    "In this part we decided to use multivariate forecasting to see how the LSTM method performs. We use five features that has the most important parts in forecasting weather, i.e, **average air temperature** (`temp`), **minimum air temperature** (`temp_min`), **maximum air temperature** (`temp_max`), **air pressure** (`pressure`), and **air humidity** (`humidity`)."
   ]
  },
  {
   "cell_type": "code",
   "execution_count": 32,
   "metadata": {
    "colab": {},
    "colab_type": "code",
    "id": "OYuoctHD2SjW",
    "outputId": "028b5ece-ff1c-460b-d49c-ebd50308ec8b",
    "scrolled": false
   },
   "outputs": [
    {
     "data": {
      "text/html": [
       "<div>\n",
       "<style scoped>\n",
       "    .dataframe tbody tr th:only-of-type {\n",
       "        vertical-align: middle;\n",
       "    }\n",
       "\n",
       "    .dataframe tbody tr th {\n",
       "        vertical-align: top;\n",
       "    }\n",
       "\n",
       "    .dataframe thead th {\n",
       "        text-align: right;\n",
       "    }\n",
       "</style>\n",
       "<table border=\"1\" class=\"dataframe\">\n",
       "  <thead>\n",
       "    <tr style=\"text-align: right;\">\n",
       "      <th></th>\n",
       "      <th>temp</th>\n",
       "      <th>temp_min</th>\n",
       "      <th>temp_max</th>\n",
       "      <th>pressure</th>\n",
       "      <th>humidity</th>\n",
       "    </tr>\n",
       "    <tr>\n",
       "      <th>dt_iso</th>\n",
       "      <th></th>\n",
       "      <th></th>\n",
       "      <th></th>\n",
       "      <th></th>\n",
       "      <th></th>\n",
       "    </tr>\n",
       "  </thead>\n",
       "  <tbody>\n",
       "    <tr>\n",
       "      <th>1990-01-01 00:00:00</th>\n",
       "      <td>25.82</td>\n",
       "      <td>25.82</td>\n",
       "      <td>25.82</td>\n",
       "      <td>1010.0</td>\n",
       "      <td>86</td>\n",
       "    </tr>\n",
       "    <tr>\n",
       "      <th>1990-01-01 01:00:00</th>\n",
       "      <td>26.20</td>\n",
       "      <td>26.20</td>\n",
       "      <td>26.20</td>\n",
       "      <td>1011.0</td>\n",
       "      <td>84</td>\n",
       "    </tr>\n",
       "    <tr>\n",
       "      <th>1990-01-01 02:00:00</th>\n",
       "      <td>26.45</td>\n",
       "      <td>26.45</td>\n",
       "      <td>26.45</td>\n",
       "      <td>1011.0</td>\n",
       "      <td>84</td>\n",
       "    </tr>\n",
       "    <tr>\n",
       "      <th>1990-01-01 03:00:00</th>\n",
       "      <td>26.80</td>\n",
       "      <td>26.80</td>\n",
       "      <td>26.80</td>\n",
       "      <td>1011.0</td>\n",
       "      <td>82</td>\n",
       "    </tr>\n",
       "    <tr>\n",
       "      <th>1990-01-01 04:00:00</th>\n",
       "      <td>27.04</td>\n",
       "      <td>27.04</td>\n",
       "      <td>27.04</td>\n",
       "      <td>1010.0</td>\n",
       "      <td>82</td>\n",
       "    </tr>\n",
       "  </tbody>\n",
       "</table>\n",
       "</div>"
      ],
      "text/plain": [
       "                      temp  temp_min  temp_max  pressure  humidity\n",
       "dt_iso                                                            \n",
       "1990-01-01 00:00:00  25.82     25.82     25.82    1010.0        86\n",
       "1990-01-01 01:00:00  26.20     26.20     26.20    1011.0        84\n",
       "1990-01-01 02:00:00  26.45     26.45     26.45    1011.0        84\n",
       "1990-01-01 03:00:00  26.80     26.80     26.80    1011.0        82\n",
       "1990-01-01 04:00:00  27.04     27.04     27.04    1010.0        82"
      ]
     },
     "execution_count": 32,
     "metadata": {},
     "output_type": "execute_result"
    }
   ],
   "source": [
    "# df_multivariate = df.drop(['weather_main', 'weather_description'], axis=1)\n",
    "df_multivariate = df[['temp', 'temp_min', 'temp_max', 'pressure', 'humidity']]\n",
    "df_multivariate.head()"
   ]
  },
  {
   "cell_type": "markdown",
   "metadata": {},
   "source": [
    "Analyze the features correlation with correlation matrix"
   ]
  },
  {
   "cell_type": "code",
   "execution_count": 33,
   "metadata": {
    "colab": {},
    "colab_type": "code",
    "id": "tZndLE5N2SjY",
    "outputId": "61c051f0-0358-488b-b913-f469a3e2f6e9",
    "scrolled": true
   },
   "outputs": [
    {
     "data": {
      "image/png": "[encoded data removed]",
      "text/plain": [
       "<Figure size 864x360 with 2 Axes>"
      ]
     },
     "metadata": {
      "needs_background": "light"
     },
     "output_type": "display_data"
    }
   ],
   "source": [
    "import seaborn as sns\n",
    "\n",
    "sns.heatmap(df_multivariate.corr(), annot=True)\n",
    "plt.show()"
   ]
  },
  {
   "cell_type": "markdown",
   "metadata": {},
   "source": [
    "We didn't used 2020 data because there was contain only seven days of data therefore we used data from January 1st 1990 until December 31st 2019."
   ]
  },
  {
   "cell_type": "code",
   "execution_count": 35,
   "metadata": {
    "colab": {},
    "colab_type": "code",
    "id": "QIwicFXQ2Sjb",
    "outputId": "ec6b1416-c12c-4f15-b903-527ba7b5427c"
   },
   "outputs": [
    {
     "data": {
      "text/html": [
       "<div>\n",
       "<style scoped>\n",
       "    .dataframe tbody tr th:only-of-type {\n",
       "        vertical-align: middle;\n",
       "    }\n",
       "\n",
       "    .dataframe tbody tr th {\n",
       "        vertical-align: top;\n",
       "    }\n",
       "\n",
       "    .dataframe thead th {\n",
       "        text-align: right;\n",
       "    }\n",
       "</style>\n",
       "<table border=\"1\" class=\"dataframe\">\n",
       "  <thead>\n",
       "    <tr style=\"text-align: right;\">\n",
       "      <th></th>\n",
       "      <th>temp</th>\n",
       "      <th>temp_min</th>\n",
       "      <th>temp_max</th>\n",
       "      <th>pressure</th>\n",
       "      <th>humidity</th>\n",
       "    </tr>\n",
       "    <tr>\n",
       "      <th>dt_iso</th>\n",
       "      <th></th>\n",
       "      <th></th>\n",
       "      <th></th>\n",
       "      <th></th>\n",
       "      <th></th>\n",
       "    </tr>\n",
       "  </thead>\n",
       "  <tbody>\n",
       "    <tr>\n",
       "      <th>2019-12-31 19:00:00</th>\n",
       "      <td>27.08</td>\n",
       "      <td>27.0</td>\n",
       "      <td>27.2</td>\n",
       "      <td>1009.0</td>\n",
       "      <td>88</td>\n",
       "    </tr>\n",
       "    <tr>\n",
       "      <th>2019-12-31 20:00:00</th>\n",
       "      <td>26.64</td>\n",
       "      <td>26.0</td>\n",
       "      <td>27.0</td>\n",
       "      <td>1009.0</td>\n",
       "      <td>94</td>\n",
       "    </tr>\n",
       "    <tr>\n",
       "      <th>2019-12-31 21:00:00</th>\n",
       "      <td>26.00</td>\n",
       "      <td>26.0</td>\n",
       "      <td>26.0</td>\n",
       "      <td>1009.0</td>\n",
       "      <td>94</td>\n",
       "    </tr>\n",
       "    <tr>\n",
       "      <th>2019-12-31 22:00:00</th>\n",
       "      <td>26.00</td>\n",
       "      <td>26.0</td>\n",
       "      <td>26.0</td>\n",
       "      <td>1009.0</td>\n",
       "      <td>94</td>\n",
       "    </tr>\n",
       "    <tr>\n",
       "      <th>2019-12-31 23:00:00</th>\n",
       "      <td>27.00</td>\n",
       "      <td>27.0</td>\n",
       "      <td>27.0</td>\n",
       "      <td>1010.0</td>\n",
       "      <td>88</td>\n",
       "    </tr>\n",
       "  </tbody>\n",
       "</table>\n",
       "</div>"
      ],
      "text/plain": [
       "                      temp  temp_min  temp_max  pressure  humidity\n",
       "dt_iso                                                            \n",
       "2019-12-31 19:00:00  27.08      27.0      27.2    1009.0        88\n",
       "2019-12-31 20:00:00  26.64      26.0      27.0    1009.0        94\n",
       "2019-12-31 21:00:00  26.00      26.0      26.0    1009.0        94\n",
       "2019-12-31 22:00:00  26.00      26.0      26.0    1009.0        94\n",
       "2019-12-31 23:00:00  27.00      27.0      27.0    1010.0        88"
      ]
     },
     "execution_count": 35,
     "metadata": {},
     "output_type": "execute_result"
    }
   ],
   "source": [
    "# Don't use data in 2020\n",
    "df_multivariate = df_multivariate.loc['1990':'2019']\n",
    "df_multivariate.tail()"
   ]
  },
  {
   "cell_type": "code",
   "execution_count": 36,
   "metadata": {
    "colab": {},
    "colab_type": "code",
    "id": "CKlnwhPV2Sjd",
    "outputId": "187f8a11-f64b-4426-f967-668790dc90b6"
   },
   "outputs": [
    {
     "name": "stdout",
     "output_type": "stream",
     "text": [
      "Number of dataset: 264756\n",
      "10 samples of data: \n",
      "[[  25.82   25.82   25.82 1010.     86.  ]\n",
      " [  26.2    26.2    26.2  1011.     84.  ]\n",
      " [  26.45   26.45   26.45 1011.     84.  ]\n",
      " [  26.8    26.8    26.8  1011.     82.  ]\n",
      " [  27.04   27.04   27.04 1010.     82.  ]\n",
      " [  27.23   27.23   27.23 1009.     82.  ]\n",
      " [  27.32   27.32   27.32 1008.     82.  ]\n",
      " [  27.29   27.29   27.29 1008.     82.  ]\n",
      " [  27.34   27.34   27.34 1007.     81.  ]\n",
      " [  27.23   27.23   27.23 1007.     82.  ]]\n"
     ]
    }
   ],
   "source": [
    "# Convert the dataframe to numpy array\n",
    "# df_multivariate = df_multivariate.drop('date', axis=1)\n",
    "dt_multivariate = df_multivariate.values\n",
    "print('Number of dataset: {}'.format(len(df_multivariate)))\n",
    "print('10 samples of data: \\n{}'.format(dt_multivariate[:10]))"
   ]
  },
  {
   "cell_type": "code",
   "execution_count": 37,
   "metadata": {
    "colab": {},
    "colab_type": "code",
    "id": "dnk4JQ7i2Sjf",
    "outputId": "b7820516-2d9f-4779-f01f-16bcaeead4c6"
   },
   "outputs": [
    {
     "name": "stdout",
     "output_type": "stream",
     "text": [
      "Normalized data:\n",
      "[ 0.06489342  0.1281178   0.00158411 -0.88977112  0.01811545]\n",
      "(264756, 5)\n"
     ]
    }
   ],
   "source": [
    "#Normalizing the data using StandardScaler from sklearn, instead of using the conventional calculation like the above before\n",
    "from sklearn.preprocessing import StandardScaler\n",
    "sc = StandardScaler()\n",
    "dt_multivariate = sc.fit_transform(dt_multivariate)\n",
    "print('Normalized data:')\n",
    "print(dt_multivariate[10])\n",
    "print(dt_multivariate.shape)"
   ]
  },
  {
   "cell_type": "markdown",
   "metadata": {
    "colab_type": "text",
    "id": "jfmn-cuu2Sji"
   },
   "source": [
    "## Single Step Model\n",
    "\n",
    "In a single step setup, the model learns to predict a single point in the future based on history provided."
   ]
  },
  {
   "cell_type": "code",
   "execution_count": 38,
   "metadata": {
    "colab": {},
    "colab_type": "code",
    "id": "6167Y7CY2Sjj"
   },
   "outputs": [],
   "source": [
    "def multivariate_data(dataset, target, start_index, end_index, history_size, target_size, step, single_step=False):\n",
    "    data = []\n",
    "    labels = []\n",
    "    \n",
    "    start_index = start_index + history_size\n",
    "    if end_index is None:\n",
    "        end_index = len(dataset) - target_size\n",
    "        \n",
    "    for i in range(start_index, end_index):\n",
    "        indices = range(i - history_size, i, step)\n",
    "        data.append(dataset[indices])\n",
    "        \n",
    "        if single_step:\n",
    "            labels.append(target[i+target_size])\n",
    "        else:\n",
    "            labels.append(target[i:i+target_size])\n",
    "            \n",
    "    return np.array(data), np.array(labels)"
   ]
  },
  {
   "cell_type": "code",
   "execution_count": 39,
   "metadata": {
    "colab": {},
    "colab_type": "code",
    "id": "0S7wehtY2Sjl"
   },
   "outputs": [],
   "source": [
    "TRAIN_SPLIT = num_data_train(60, df.shape[0]) # Split 60% of data for training"
   ]
  },
  {
   "cell_type": "markdown",
   "metadata": {
    "colab_type": "text",
    "id": "XQUTiLPw2Sjm"
   },
   "source": [
    "Use number of hours (**`past_history`**) of data to predict future (**`future_target`**) hourly temperature"
   ]
  },
  {
   "cell_type": "markdown",
   "metadata": {
    "colab_type": "text",
    "id": "qDViaZG02Sjn"
   },
   "source": [
    "Note:\n",
    "    - LSTMs expect 3D input, and it can be challenging to get your head around this the first time.\n",
    "    - LSTMs don’t like sequences of more than 200-400 time steps, so the data will need to be split into samples."
   ]
  },
  {
   "cell_type": "markdown",
   "metadata": {},
   "source": [
    "Because our data was collected every one hour, but we want to forecast daily future data. Therefore we calculate `number_of_hours_per_day * number_of_days` for `past_history`, `future_target`, and time step (`STEP`)."
   ]
  },
  {
   "cell_type": "code",
   "execution_count": 40,
   "metadata": {
    "colab": {},
    "colab_type": "code",
    "id": "rLVd7jXC2Sjn"
   },
   "outputs": [],
   "source": [
    "\"\"\"\n",
    "number_of_hours_per_day * number_of_days\n",
    "\n",
    "example:\n",
    "past_history = 24 * 7 \n",
    "\n",
    "where,\n",
    "\n",
    "number_of_hours_per_day = 24\n",
    "number_of_days = 7\n",
    "\"\"\"\n",
    "\n",
    "past_history = 24 * 7\n",
    "future_target = 24 * 3\n",
    "STEP = 24 # We can customize how many time steps that we want to use\n",
    "\n",
    "x_train_single, y_train_single = multivariate_data(dt_multivariate, dt_multivariate[:, 1], 0, TRAIN_SPLIT, past_history, \n",
    "                                                   future_target, STEP, single_step=True)\n",
    "x_val_single, y_val_single = multivariate_data(dt_multivariate, dt_multivariate[:, 1], TRAIN_SPLIT, None, past_history, \n",
    "                                               future_target, STEP, single_step=True)"
   ]
  },
  {
   "cell_type": "code",
   "execution_count": 41,
   "metadata": {
    "colab": {},
    "colab_type": "code",
    "id": "3-LDdtQ42Sjp",
    "outputId": "d9b07890-e65a-4cc4-efe3-0be806735397"
   },
   "outputs": [
    {
     "name": "stdout",
     "output_type": "stream",
     "text": [
      "158786 158786\n",
      "105562 105562\n"
     ]
    }
   ],
   "source": [
    "print(len(x_train_single), len(y_train_single))\n",
    "print(len(x_val_single), len(y_val_single))"
   ]
  },
  {
   "cell_type": "code",
   "execution_count": 42,
   "metadata": {
    "colab": {},
    "colab_type": "code",
    "id": "09Icg1QL2Sjr",
    "outputId": "faf6aefb-8d15-4ba2-de96-6ac9b4c1bbe8"
   },
   "outputs": [
    {
     "name": "stdout",
     "output_type": "stream",
     "text": [
      "Single window of past history: (7, 5)\n"
     ]
    }
   ],
   "source": [
    "# Test at a single data point\n",
    "print('Single window of past history: {}'.format(x_train_single[0].shape))"
   ]
  },
  {
   "cell_type": "code",
   "execution_count": 47,
   "metadata": {
    "colab": {},
    "colab_type": "code",
    "id": "Syd3cL3G2Sju"
   },
   "outputs": [],
   "source": [
    "BATCH_SIZE = 806\n",
    "BUFFER_SIZE = 10000\n",
    "\n",
    "train_data_single = tf.data.Dataset.from_tensor_slices((x_train_single, y_train_single))\n",
    "train_data_single = train_data_single.cache().shuffle(BUFFER_SIZE).batch(BATCH_SIZE).repeat()\n",
    "\n",
    "val_data_single = tf.data.Dataset.from_tensor_slices((x_val_single, y_val_single))\n",
    "val_data_single = val_data_single.batch(BATCH_SIZE).repeat()"
   ]
  },
  {
   "cell_type": "code",
   "execution_count": 48,
   "metadata": {
    "colab": {},
    "colab_type": "code",
    "id": "3d7EVs5Z2Sjw",
    "outputId": "c6be160f-ce1b-4be7-d766-b3b8fcee8edb"
   },
   "outputs": [
    {
     "name": "stdout",
     "output_type": "stream",
     "text": [
      "(158786, 7, 5) (105562, 7, 5)\n",
      "\n",
      "(158786,) (105562,)\n"
     ]
    }
   ],
   "source": [
    "print(x_train_single.shape, x_val_single.shape)\n",
    "print()\n",
    "print(y_train_single.shape, y_val_single.shape)"
   ]
  },
  {
   "cell_type": "code",
   "execution_count": 54,
   "metadata": {
    "colab": {},
    "colab_type": "code",
    "id": "3LLr3wuE2Sjz",
    "outputId": "b5589c81-aa60-4905-937a-af0d058fbeb6"
   },
   "outputs": [
    {
     "name": "stdout",
     "output_type": "stream",
     "text": [
      "Model: \"sequential\"\n",
      "_________________________________________________________________\n",
      "Layer (type)                 Output Shape              Param #   \n",
      "=================================================================\n",
      "lstm (LSTM)                  (None, 32)                4864      \n",
      "_________________________________________________________________\n",
      "dense (Dense)                (None, 32)                1056      \n",
      "_________________________________________________________________\n",
      "dense_1 (Dense)              (None, 1)                 33        \n",
      "=================================================================\n",
      "Total params: 5,953\n",
      "Trainable params: 5,953\n",
      "Non-trainable params: 0\n",
      "_________________________________________________________________\n"
     ]
    }
   ],
   "source": [
    "# Normal Sequential model\n",
    "tf.keras.backend.clear_session()\n",
    "\n",
    "# 2 layer LSTM\n",
    "single_step_model = tf.keras.models.Sequential()\n",
    "single_step_model.add(tf.keras.layers.LSTM(32, input_shape=x_train_single.shape[-2:]))\n",
    "single_step_model.add(tf.keras.layers.Dense(32, activation='relu'))\n",
    "single_step_model.add(tf.keras.layers.Dense(1))\n",
    "single_step_model.compile(optimizer='sgd', loss='mae')\n",
    "\n",
    "single_step_model.summary()"
   ]
  },
  {
   "cell_type": "code",
   "execution_count": 55,
   "metadata": {
    "colab": {},
    "colab_type": "code",
    "id": "o2Zlbd532Sj1",
    "outputId": "e0574ec6-aef1-405c-833a-0e681f37863a"
   },
   "outputs": [
    {
     "name": "stdout",
     "output_type": "stream",
     "text": [
      "(806, 1)\n"
     ]
    }
   ],
   "source": [
    "for x, y in val_data_single.take(1):\n",
    "    print(single_step_model.predict(x).shape)"
   ]
  },
  {
   "cell_type": "code",
   "execution_count": 56,
   "metadata": {
    "colab": {},
    "colab_type": "code",
    "id": "tR7v7iE22Sj4",
    "outputId": "3e624625-19c4-42fb-ce65-84546b646e03"
   },
   "outputs": [
    {
     "name": "stdout",
     "output_type": "stream",
     "text": [
      "Train for 180 steps, validate for 50 steps\n",
      "Epoch 1/10\n",
      "180/180 [==============================] - 5s 27ms/step - loss: 0.6443 - val_loss: 0.5679\n",
      "Epoch 2/10\n",
      "180/180 [==============================] - 3s 19ms/step - loss: 0.5442 - val_loss: 0.5632\n",
      "Epoch 3/10\n",
      "180/180 [==============================] - 3s 19ms/step - loss: 0.5326 - val_loss: 0.5607\n",
      "Epoch 4/10\n",
      "180/180 [==============================] - 4s 21ms/step - loss: 0.5290 - val_loss: 0.5598\n",
      "Epoch 5/10\n",
      "180/180 [==============================] - 4s 20ms/step - loss: 0.5312 - val_loss: 0.5617\n",
      "Epoch 6/10\n",
      "180/180 [==============================] - 4s 20ms/step - loss: 0.5294 - val_loss: 0.5583\n",
      "Epoch 7/10\n",
      "180/180 [==============================] - 4s 20ms/step - loss: 0.5255 - val_loss: 0.5484\n",
      "Epoch 8/10\n",
      "180/180 [==============================] - 3s 19ms/step - loss: 0.5225 - val_loss: 0.5455\n",
      "Epoch 9/10\n",
      "180/180 [==============================] - 4s 20ms/step - loss: 0.5284 - val_loss: 0.5441\n",
      "Epoch 10/10\n",
      "180/180 [==============================] - 3s 19ms/step - loss: 0.5316 - val_loss: 0.5438\n"
     ]
    }
   ],
   "source": [
    "EPOCHS = 10\n",
    "STEPS_PER_EPOCH = 180\n",
    "VALIDATION_STEPS = 50\n",
    "single_step_model_history = single_step_model.fit(train_data_single, epochs=EPOCHS, steps_per_epoch=STEPS_PER_EPOCH,\n",
    "                                            validation_data=val_data_single, validation_steps=VALIDATION_STEPS)"
   ]
  },
  {
   "cell_type": "code",
   "execution_count": 57,
   "metadata": {
    "colab": {},
    "colab_type": "code",
    "id": "nsI6Tk-m2Sj7"
   },
   "outputs": [],
   "source": [
    "def plot_train_history(history, title):\n",
    "    loss = history.history['loss']\n",
    "    val_loss = history.history['val_loss']\n",
    "    \n",
    "    epochs = range(len(loss))\n",
    "    \n",
    "    plt.figure()\n",
    "    \n",
    "    plt.plot(epochs, loss, 'b', label='Training Loss')\n",
    "    plt.plot(epochs, val_loss, 'r', label='Validation Loss')\n",
    "    plt.xlabel('Epoch')\n",
    "    plt.title(title)\n",
    "    plt.legend()\n",
    "    plt.show()"
   ]
  },
  {
   "cell_type": "code",
   "execution_count": 58,
   "metadata": {
    "colab": {},
    "colab_type": "code",
    "id": "kK6Pw3tR2Sj9",
    "outputId": "14ef1074-ab2a-40b0-d9de-8c534e5fe481",
    "scrolled": true
   },
   "outputs": [
    {
     "data": {
      "image/png": "[encoded data removed]",
      "text/plain": [
       "<Figure size 864x360 with 1 Axes>"
      ]
     },
     "metadata": {
      "needs_background": "light"
     },
     "output_type": "display_data"
    }
   ],
   "source": [
    "plot_train_history(single_step_model_history, 'Single Step Model Training and Validation Loss')"
   ]
  },
  {
   "cell_type": "markdown",
   "metadata": {
    "colab_type": "text",
    "id": "Nbf7UzXt2Sj_"
   },
   "source": [
    "## Multi Step Model\n",
    "\n",
    "In a single step setup, the model learns to predict a single point in the future based on history provided"
   ]
  },
  {
   "cell_type": "code",
   "execution_count": 59,
   "metadata": {
    "colab": {},
    "colab_type": "code",
    "id": "mxW05p4y2SkA"
   },
   "outputs": [],
   "source": [
    "past_history = 24 * 7\n",
    "future_target = 24 * 3\n",
    "STEP = 24 # We can customize how many time steps that we want to use\n",
    "\n",
    "x_train_multi, y_train_multi = multivariate_data(dt_multivariate, dt_multivariate[:, 1], 0, TRAIN_SPLIT, past_history, \n",
    "                                                   future_target, STEP)\n",
    "x_val_multi, y_val_multi = multivariate_data(dt_multivariate, dt_multivariate[:, 1], TRAIN_SPLIT, None, past_history, \n",
    "                                               future_target, STEP)"
   ]
  },
  {
   "cell_type": "code",
   "execution_count": 60,
   "metadata": {
    "colab": {},
    "colab_type": "code",
    "id": "AB-uGK2f2SkB",
    "outputId": "54aec176-be46-48d5-b73f-668c085e4d5a"
   },
   "outputs": [
    {
     "name": "stdout",
     "output_type": "stream",
     "text": [
      "158786 158786\n",
      "105586 105586\n"
     ]
    }
   ],
   "source": [
    "print(len(x_train_multi), len(y_train_multi))\n",
    "print(len(x_val_multi), len(y_val_multi))"
   ]
  },
  {
   "cell_type": "code",
   "execution_count": 61,
   "metadata": {
    "colab": {},
    "colab_type": "code",
    "id": "2JrSEAim2SkD",
    "outputId": "2dbb4023-2229-48da-86c3-e7dedbb05a58"
   },
   "outputs": [
    {
     "name": "stdout",
     "output_type": "stream",
     "text": [
      "(158786, 7, 5) (105562, 7, 5)\n",
      "\n",
      "(158786,) (105562,)\n"
     ]
    }
   ],
   "source": [
    "print(x_train_single.shape, x_val_single.shape)\n",
    "print()\n",
    "print(y_train_single.shape, y_val_single.shape)"
   ]
  },
  {
   "cell_type": "code",
   "execution_count": 62,
   "metadata": {
    "colab": {},
    "colab_type": "code",
    "id": "Z7OfCYz82SkF",
    "outputId": "05fc1470-969f-44c9-d6d6-b37bf5233ce3"
   },
   "outputs": [
    {
     "name": "stdout",
     "output_type": "stream",
     "text": [
      "Single window of past history: (7, 5)\n",
      "\n",
      " Target temperature to predict: (48,)\n"
     ]
    }
   ],
   "source": [
    "# Test at a single data point\n",
    "print('Single window of past history: {}'.format(x_train_multi[0].shape))\n",
    "print('\\n Target temperature to predict: {}'.format(y_train_multi[0].shape))"
   ]
  },
  {
   "cell_type": "code",
   "execution_count": 63,
   "metadata": {
    "colab": {},
    "colab_type": "code",
    "id": "vCItUJFj2SkH"
   },
   "outputs": [],
   "source": [
    "train_data_multi = tf.data.Dataset.from_tensor_slices((x_train_multi, y_train_multi))\n",
    "train_data_multi = train_data_multi.cache().shuffle(BUFFER_SIZE).batch(BATCH_SIZE).repeat()\n",
    "\n",
    "val_data_multi = tf.data.Dataset.from_tensor_slices((x_val_multi, y_val_multi))\n",
    "val_data_multi = val_data_multi.batch(BATCH_SIZE).repeat()"
   ]
  },
  {
   "cell_type": "code",
   "execution_count": 0,
   "metadata": {
    "colab": {},
    "colab_type": "code",
    "id": "rwbXRTUa2SkJ"
   },
   "outputs": [],
   "source": [
    "def multi_step_plot(history, true_future, prediction):\n",
    "#     plt.figure(figsize=(12, 6))\n",
    "    num_in = create_time_steps(len(history))\n",
    "    num_out = len(true_future)\n",
    "    \n",
    "    plt.plot(num_in, np.array(history[:, 1]), label='History')\n",
    "    plt.plot(np.arange(num_out)/STEP, np.array(true_future), 'bo', label='True Future')\n",
    "    if prediction.any():\n",
    "        plt.plot(np.arange(num_out)/STEP, np.array(prediction), 'ro', label='Predicted Future')\n",
    "    plt.legend(loc='upper left')\n",
    "    plt.show()"
   ]
  },
  {
   "cell_type": "code",
   "execution_count": 0,
   "metadata": {
    "colab": {},
    "colab_type": "code",
    "id": "kusHIJkX2SkL",
    "outputId": "dce0636c-8bf7-444d-ac04-2541cbd1229f",
    "scrolled": true
   },
   "outputs": [
    {
     "data": {
      "image/png": "[encoded data removed]",
      "text/plain": [
       "<Figure size 864x360 with 1 Axes>"
      ]
     },
     "metadata": {
      "needs_background": "light",
      "tags": []
     },
     "output_type": "display_data"
    }
   ],
   "source": [
    "for x, y in train_data_multi.take(1):\n",
    "    multi_step_plot(x[0], y[0], np.array([0]))"
   ]
  },
  {
   "cell_type": "code",
   "execution_count": 0,
   "metadata": {
    "colab": {},
    "colab_type": "code",
    "id": "DW1pqBCy2SkO",
    "outputId": "a2ddf2b7-8965-46de-9fbe-e063900faa73"
   },
   "outputs": [
    {
     "name": "stdout",
     "output_type": "stream",
     "text": [
      "Model: \"sequential\"\n",
      "_________________________________________________________________\n",
      "Layer (type)                 Output Shape              Param #   \n",
      "=================================================================\n",
      "lstm (LSTM)                  (None, 32)                4864      \n",
      "_________________________________________________________________\n",
      "dense (Dense)                (None, 32)                1056      \n",
      "_________________________________________________________________\n",
      "dense_1 (Dense)              (None, 32)                1056      \n",
      "_________________________________________________________________\n",
      "dense_2 (Dense)              (None, 32)                1056      \n",
      "_________________________________________________________________\n",
      "dense_3 (Dense)              (None, 48)                1584      \n",
      "=================================================================\n",
      "Total params: 9,616\n",
      "Trainable params: 9,616\n",
      "Non-trainable params: 0\n",
      "_________________________________________________________________\n"
     ]
    }
   ],
   "source": [
    "# Normal Sequential model\n",
    "tf.keras.backend.clear_session()\n",
    "\n",
    "# 2 layer LSTM\n",
    "multi_step_model = tf.keras.models.Sequential()\n",
    "multi_step_model.add(tf.keras.layers.LSTM(32, input_shape=x_train_single.shape[-2:]))\n",
    "multi_step_model.add(tf.keras.layers.Dense(32, activation='relu'))\n",
    "multi_step_model.add(tf.keras.layers.Dense(32, activation='relu'))\n",
    "multi_step_model.add(tf.keras.layers.Dense(32, activation='relu'))\n",
    "multi_step_model.add(tf.keras.layers.Dense(future_target)) # the number output layer should be the same as future target\n",
    "multi_step_model.compile(optimizer='sgd', loss='mae')\n",
    "\n",
    "multi_step_model.summary()"
   ]
  },
  {
   "cell_type": "code",
   "execution_count": 0,
   "metadata": {
    "colab": {},
    "colab_type": "code",
    "id": "yfiTlEYU2SkQ",
    "outputId": "132244a1-7dd8-4c58-be98-373f32fe6008",
    "scrolled": true
   },
   "outputs": [
    {
     "data": {
      "image/png": "[encoded data removed]",
      "text/plain": [
       "<Figure size 864x360 with 1 Axes>"
      ]
     },
     "metadata": {
      "needs_background": "light",
      "tags": []
     },
     "output_type": "display_data"
    }
   ],
   "source": [
    "for x, y in train_data_multi.take(1):\n",
    "  multi_step_plot(x[0], y[0], np.array([0]))"
   ]
  },
  {
   "cell_type": "code",
   "execution_count": 0,
   "metadata": {
    "colab": {},
    "colab_type": "code",
    "id": "ilxhQmeQ2SkV",
    "outputId": "9958aed3-e582-47b7-b82f-e803bafe03ea"
   },
   "outputs": [
    {
     "name": "stdout",
     "output_type": "stream",
     "text": [
      "Train for 1000 steps, validate for 250 steps\n",
      "Epoch 1/50\n",
      "1000/1000 [==============================] - 14s 14ms/step - loss: 0.7312 - val_loss: 0.7317\n",
      "Epoch 2/50\n",
      "1000/1000 [==============================] - 14s 14ms/step - loss: 0.7090 - val_loss: 0.7200\n",
      "Epoch 3/50\n",
      "1000/1000 [==============================] - 15s 15ms/step - loss: 0.7334 - val_loss: 0.7075\n",
      "Epoch 4/50\n",
      "1000/1000 [==============================] - 15s 15ms/step - loss: 0.6905 - val_loss: 0.7010\n",
      "Epoch 5/50\n",
      "1000/1000 [==============================] - 16s 16ms/step - loss: 0.7002 - val_loss: 0.6920\n",
      "Epoch 6/50\n",
      "1000/1000 [==============================] - 16s 16ms/step - loss: 0.6910 - val_loss: 0.6876\n",
      "Epoch 7/50\n",
      "1000/1000 [==============================] - 15s 15ms/step - loss: 0.6681 - val_loss: 0.6885\n",
      "Epoch 8/50\n",
      "1000/1000 [==============================] - 14s 14ms/step - loss: 0.7029 - val_loss: 0.6765\n",
      "Epoch 9/50\n",
      "1000/1000 [==============================] - 14s 14ms/step - loss: 0.6691 - val_loss: 0.6770\n",
      "Epoch 10/50\n",
      "1000/1000 [==============================] - 14s 14ms/step - loss: 0.6683 - val_loss: 0.6823\n",
      "Epoch 11/50\n",
      "1000/1000 [==============================] - 15s 15ms/step - loss: 0.6862 - val_loss: 0.6687\n",
      "Epoch 12/50\n",
      "1000/1000 [==============================] - 15s 15ms/step - loss: 0.6551 - val_loss: 0.6732\n",
      "Epoch 13/50\n",
      "1000/1000 [==============================] - 15s 15ms/step - loss: 0.6891 - val_loss: 0.6609\n",
      "Epoch 14/50\n",
      "1000/1000 [==============================] - 15s 15ms/step - loss: 0.6616 - val_loss: 0.6633\n",
      "Epoch 15/50\n",
      "1000/1000 [==============================] - 14s 14ms/step - loss: 0.6529 - val_loss: 0.6773\n",
      "Epoch 16/50\n",
      "1000/1000 [==============================] - 14s 14ms/step - loss: 0.6820 - val_loss: 0.6564\n",
      "Epoch 17/50\n",
      "1000/1000 [==============================] - 15s 15ms/step - loss: 0.6480 - val_loss: 0.6604\n",
      "Epoch 18/50\n",
      "1000/1000 [==============================] - 14s 14ms/step - loss: 0.6764 - val_loss: 0.6496\n",
      "Epoch 19/50\n",
      "1000/1000 [==============================] - 14s 14ms/step - loss: 0.6546 - val_loss: 0.6523\n",
      "Epoch 20/50\n",
      "1000/1000 [==============================] - 14s 14ms/step - loss: 0.6422 - val_loss: 0.6678\n",
      "Epoch 21/50\n",
      "1000/1000 [==============================] - 14s 14ms/step - loss: 0.6757 - val_loss: 0.6467\n",
      "Epoch 22/50\n",
      "1000/1000 [==============================] - 14s 14ms/step - loss: 0.6436 - val_loss: 0.6496\n",
      "Epoch 23/50\n",
      "1000/1000 [==============================] - 14s 14ms/step - loss: 0.6589 - val_loss: 0.6470\n",
      "Epoch 24/50\n",
      "1000/1000 [==============================] - 14s 14ms/step - loss: 0.6529 - val_loss: 0.6435\n",
      "Epoch 25/50\n",
      "1000/1000 [==============================] - 14s 14ms/step - loss: 0.6354 - val_loss: 0.6574\n",
      "Epoch 26/50\n",
      "1000/1000 [==============================] - 14s 14ms/step - loss: 0.6687 - val_loss: 0.6384\n",
      "Epoch 27/50\n",
      "1000/1000 [==============================] - 15s 15ms/step - loss: 0.6407 - val_loss: 0.6431\n",
      "Epoch 28/50\n",
      "1000/1000 [==============================] - 17s 17ms/step - loss: 0.6416 - val_loss: 0.6663\n",
      "Epoch 29/50\n",
      "1000/1000 [==============================] - 16s 16ms/step - loss: 0.6567 - val_loss: 0.6377\n",
      "Epoch 30/50\n",
      "1000/1000 [==============================] - 16s 16ms/step - loss: 0.6301 - val_loss: 0.6460\n",
      "Epoch 31/50\n",
      "1000/1000 [==============================] - 15s 15ms/step - loss: 0.6618 - val_loss: 0.6314\n",
      "Epoch 32/50\n",
      "1000/1000 [==============================] - 15s 15ms/step - loss: 0.6390 - val_loss: 0.6371\n",
      "Epoch 33/50\n",
      "1000/1000 [==============================] - 16s 16ms/step - loss: 0.6301 - val_loss: 0.6636\n",
      "Epoch 34/50\n",
      "1000/1000 [==============================] - 15s 15ms/step - loss: 0.6588 - val_loss: 0.6331\n",
      "Epoch 35/50\n",
      "1000/1000 [==============================] - 16s 16ms/step - loss: 0.6272 - val_loss: 0.6375\n",
      "Epoch 36/50\n",
      "1000/1000 [==============================] - 15s 15ms/step - loss: 0.6549 - val_loss: 0.6259\n",
      "Epoch 37/50\n",
      "1000/1000 [==============================] - 17s 17ms/step - loss: 0.6370 - val_loss: 0.6314\n",
      "Epoch 38/50\n",
      "1000/1000 [==============================] - 16s 16ms/step - loss: 0.6241 - val_loss: 0.6534\n",
      "Epoch 39/50\n",
      "1000/1000 [==============================] - 16s 16ms/step - loss: 0.6575 - val_loss: 0.6280\n",
      "Epoch 40/50\n",
      "1000/1000 [==============================] - 17s 17ms/step - loss: 0.6267 - val_loss: 0.6325\n",
      "Epoch 41/50\n",
      "1000/1000 [==============================] - 16s 16ms/step - loss: 0.6450 - val_loss: 0.6281\n",
      "Epoch 42/50\n",
      "1000/1000 [==============================] - 16s 16ms/step - loss: 0.6367 - val_loss: 0.6267\n",
      "Epoch 43/50\n",
      "1000/1000 [==============================] - 15s 15ms/step - loss: 0.6211 - val_loss: 0.6463\n",
      "Epoch 44/50\n",
      "1000/1000 [==============================] - 16s 16ms/step - loss: 0.6541 - val_loss: 0.6226\n",
      "Epoch 45/50\n",
      "1000/1000 [==============================] - 17s 17ms/step - loss: 0.6272 - val_loss: 0.6308\n",
      "Epoch 46/50\n",
      "1000/1000 [==============================] - 15s 15ms/step - loss: 0.6308 - val_loss: 0.6589\n",
      "Epoch 47/50\n",
      "1000/1000 [==============================] - 16s 16ms/step - loss: 0.6417 - val_loss: 0.6235\n",
      "Epoch 48/50\n",
      "1000/1000 [==============================] - 16s 16ms/step - loss: 0.6183 - val_loss: 0.6354\n",
      "Epoch 49/50\n",
      "1000/1000 [==============================] - 15s 15ms/step - loss: 0.6496 - val_loss: 0.6172\n",
      "Epoch 50/50\n",
      "1000/1000 [==============================] - 16s 16ms/step - loss: 0.6271 - val_loss: 0.6246\n"
     ]
    }
   ],
   "source": [
    "EPOCHS = 50 # 10\n",
    "STEPS_PER_EPOCH = 1000 # 200\n",
    "VALIDATION_STEPS = 250 # 50\n",
    "\n",
    "multi_step_model_history = multi_step_model.fit(train_data_multi, epochs=EPOCHS,\n",
    "                                          steps_per_epoch=STEPS_PER_EPOCH,\n",
    "                                          validation_data=val_data_multi,\n",
    "                                          validation_steps=VALIDATION_STEPS)"
   ]
  },
  {
   "cell_type": "code",
   "execution_count": 0,
   "metadata": {
    "colab": {},
    "colab_type": "code",
    "id": "peZchPlO2SkX"
   },
   "outputs": [],
   "source": [
    "def plot_train_history(history, title):\n",
    "    loss = history.history['loss']\n",
    "    val_loss = history.history['val_loss']\n",
    "    \n",
    "    epochs = range(len(loss))\n",
    "    \n",
    "    plt.figure()\n",
    "    \n",
    "    plt.plot(epochs, loss, 'b', label='Training Loss')\n",
    "    plt.plot(epochs, val_loss, 'r', label='Validation Loss')\n",
    "    plt.xlabel('Epoch')\n",
    "    plt.title(title)\n",
    "    plt.legend()\n",
    "    plt.show()"
   ]
  },
  {
   "cell_type": "code",
   "execution_count": 0,
   "metadata": {
    "colab": {},
    "colab_type": "code",
    "id": "u_V8CJNQ2Ska",
    "outputId": "b840658e-c7a4-4c1b-98be-d5b0714345d8",
    "scrolled": true
   },
   "outputs": [
    {
     "data": {
      "image/png": "[encoded data removed]",
      "text/plain": [
       "<Figure size 864x360 with 1 Axes>"
      ]
     },
     "metadata": {
      "needs_background": "light",
      "tags": []
     },
     "output_type": "display_data"
    }
   ],
   "source": [
    "plot_train_history(multi_step_model_history, 'Multi Step Model Training and Validation Loss')"
   ]
  },
  {
   "cell_type": "code",
   "execution_count": 0,
   "metadata": {
    "colab": {},
    "colab_type": "code",
    "id": "02cF11uB2Skc",
    "outputId": "891a8b3f-f0a9-4653-c818-fc0de007155d"
   },
   "outputs": [
    {
     "data": {
      "image/png": "[encoded data removed]",
      "text/plain": [
       "<Figure size 864x360 with 1 Axes>"
      ]
     },
     "metadata": {
      "needs_background": "light",
      "tags": []
     },
     "output_type": "display_data"
    },
    {
     "data": {
      "image/png": "[encoded data removed]",
      "text/plain": [
       "<Figure size 864x360 with 1 Axes>"
      ]
     },
     "metadata": {
      "needs_background": "light",
      "tags": []
     },
     "output_type": "display_data"
    },
    {
     "data": {
      "image/png": "[encoded data removed]",
      "text/plain": [
       "<Figure size 864x360 with 1 Axes>"
      ]
     },
     "metadata": {
      "needs_background": "light",
      "tags": []
     },
     "output_type": "display_data"
    }
   ],
   "source": [
    "for x, y in val_data_multi.take(3):\n",
    "  multi_step_plot(x[0], y[0], multi_step_model_2.predict(x)[0])"
   ]
  },
  {
   "cell_type": "code",
   "execution_count": 0,
   "metadata": {
    "colab": {},
    "colab_type": "code",
    "id": "b1rh669q2Ske"
   },
   "outputs": [],
   "source": []
  }
 ],
 "metadata": {
  "accelerator": "GPU",
  "colab": {
   "collapsed_sections": [
    "jfmn-cuu2Sji",
    "Nbf7UzXt2Sj_"
   ],
   "name": "bangkit_ML_assignment.ipynb",
   "provenance": []
  },
  "kernelspec": {
   "display_name": "Python 3",
   "language": "python",
   "name": "python3"
  },
  "language_info": {
   "codemirror_mode": {
    "name": "ipython",
    "version": 3
   },
   "file_extension": ".py",
   "mimetype": "text/x-python",
   "name": "python",
   "nbconvert_exporter": "python",
   "pygments_lexer": "ipython3",
   "version": "3.7.4"
  }
 },
 "nbformat": 4,
 "nbformat_minor": 1
}
